{
 "metadata": {
  "name": "functions-in-python"
 }, 
 "nbformat": 2, 
 "worksheets": [
  {
   "cells": [
    {
     "cell_type": "markdown", 
     "source": [
      "Let's learn about python functions today by writing one to calculate the average of a list of numbers.  The keyword \"def\" introduces a function followed by the function name and the input to the functions."
     ]
    }, 
    {
     "cell_type": "markdown", 
     "source": [
      "We've already learned about some python functions."
     ]
    }, 
    {
     "cell_type": "code", 
     "collapsed": false, 
     "input": [
      "len('happy')"
     ], 
     "language": "python", 
     "outputs": [
      {
       "output_type": "pyout", 
       "prompt_number": 1, 
       "text": [
        "5"
       ]
      }
     ], 
     "prompt_number": 1
    }, 
    {
     "cell_type": "markdown", 
     "source": [
      "Now, let's write one."
     ]
    }, 
    {
     "cell_type": "markdown", 
     "source": [
      "def myfunction(input):", 
      "", 
      "    do something", 
      "", 
      "    return something"
     ]
    }, 
    {
     "cell_type": "code", 
     "collapsed": false, 
     "input": [
      "#some tricks about lists before we start", 
      "", 
      "l = [1, 2, 3, 4, 5]", 
      "print len(l)", 
      "print sum(l)", 
      "print sorted(l, reverse=True)"
     ], 
     "language": "python", 
     "outputs": [
      {
       "output_type": "stream", 
       "stream": "stdout", 
       "text": [
        "5", 
        "15", 
        "[5, 4, 3, 2, 1]"
       ]
      }
     ], 
     "prompt_number": 7
    }, 
    {
     "cell_type": "code", 
     "collapsed": true, 
     "input": [
      "def average(list_input):", 
      "    sum_list = sum(list_input)", 
      "    total_list = len(list_input)", 
      "    average_list = float(sum_list)/total_list", 
      "    return average_list"
     ], 
     "language": "python", 
     "outputs": [], 
     "prompt_number": 21
    }, 
    {
     "cell_type": "code", 
     "collapsed": false, 
     "input": [
      "l = [1, 2, 3, 4, 5]", 
      "average(l)"
     ], 
     "language": "python", 
     "outputs": [
      {
       "output_type": "pyout", 
       "prompt_number": 22, 
       "text": [
        "3.0"
       ]
      }
     ], 
     "prompt_number": 22
    }, 
    {
     "cell_type": "code", 
     "collapsed": false, 
     "input": [
      "list2 = [1, 1, 1, 1, 1]", 
      "average(list2)"
     ], 
     "language": "python", 
     "outputs": [
      {
       "output_type": "pyout", 
       "prompt_number": 23, 
       "text": [
        "1.0"
       ]
      }
     ], 
     "prompt_number": 23
    }, 
    {
     "cell_type": "markdown", 
     "source": [
      "Exercise:", 
      "", 
      "Write a function that takes an input of a list and returns the list in sorted order."
     ]
    }, 
    {
     "cell_type": "code", 
     "collapsed": true, 
     "input": [], 
     "language": "python", 
     "outputs": []
    }
   ]
  }
 ]
}