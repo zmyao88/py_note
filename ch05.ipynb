{
 "metadata": {
  "name": "ch05"
 },
 "nbformat": 3,
 "nbformat_minor": 0,
 "worksheets": [
  {
   "cells": [
    {
     "cell_type": "code",
     "collapsed": false,
     "input": [
      "from pandas import Series, DataFrame\n",
      "import pandas as pd"
     ],
     "language": "python",
     "metadata": {},
     "outputs": [],
     "prompt_number": 1
    },
    {
     "cell_type": "code",
     "collapsed": false,
     "input": [
      "obj = Series([4, 7, -5, 3])\n",
      "obj"
     ],
     "language": "python",
     "metadata": {},
     "outputs": [
      {
       "output_type": "pyout",
       "prompt_number": 2,
       "text": [
        "0    4\n",
        "1    7\n",
        "2   -5\n",
        "3    3"
       ]
      }
     ],
     "prompt_number": 2
    },
    {
     "cell_type": "code",
     "collapsed": false,
     "input": [
      "obj.values\n",
      "obj.index\n"
     ],
     "language": "python",
     "metadata": {},
     "outputs": [
      {
       "output_type": "pyout",
       "prompt_number": 3,
       "text": [
        "Int64Index([0, 1, 2, 3], dtype=int64)"
       ]
      }
     ],
     "prompt_number": 3
    },
    {
     "cell_type": "code",
     "collapsed": false,
     "input": [
      "obj2 = Series([4, 7, -5, 3], index = ['d', 'b', 'a', 'c'])\n",
      "obj2"
     ],
     "language": "python",
     "metadata": {},
     "outputs": [
      {
       "output_type": "pyout",
       "prompt_number": 4,
       "text": [
        "d    4\n",
        "b    7\n",
        "a   -5\n",
        "c    3"
       ]
      }
     ],
     "prompt_number": 4
    },
    {
     "cell_type": "code",
     "collapsed": false,
     "input": [
      "obj2.index\n",
      "obj2['a']\n",
      "obj2['d'] = 6\n",
      "obj2"
     ],
     "language": "python",
     "metadata": {},
     "outputs": [
      {
       "output_type": "pyout",
       "prompt_number": 5,
       "text": [
        "d    6\n",
        "b    7\n",
        "a   -5\n",
        "c    3"
       ]
      }
     ],
     "prompt_number": 5
    },
    {
     "cell_type": "code",
     "collapsed": false,
     "input": [
      "obj2[obj2>0]\n",
      "obj2 * 2\n",
      "np.exp(obj2)"
     ],
     "language": "python",
     "metadata": {},
     "outputs": [
      {
       "output_type": "pyout",
       "prompt_number": 6,
       "text": [
        "d     403.428793\n",
        "b    1096.633158\n",
        "a       0.006738\n",
        "c      20.085537"
       ]
      }
     ],
     "prompt_number": 6
    },
    {
     "cell_type": "code",
     "collapsed": false,
     "input": [
      "print 'b' in obj2\n",
      "\n",
      "print 'e' in obj2 "
     ],
     "language": "python",
     "metadata": {},
     "outputs": [
      {
       "output_type": "stream",
       "stream": "stdout",
       "text": [
        "True\n",
        "False\n"
       ]
      }
     ],
     "prompt_number": 7
    },
    {
     "cell_type": "code",
     "collapsed": false,
     "input": [
      "sdata = {'Ohio': 35000, 'Texas': 71000, 'Oregon': 16000, 'Utah': 5000}\n",
      "obj3 = Series(sdata)\n",
      "obj3"
     ],
     "language": "python",
     "metadata": {},
     "outputs": [
      {
       "output_type": "pyout",
       "prompt_number": 8,
       "text": [
        "Ohio      35000\n",
        "Oregon    16000\n",
        "Texas     71000\n",
        "Utah       5000"
       ]
      }
     ],
     "prompt_number": 8
    },
    {
     "cell_type": "code",
     "collapsed": false,
     "input": [
      "state = ['Cali', 'Ohio', 'Oregon', 'Texas']\n",
      "obj4 = Series(sdata, index=state)\n",
      "obj4"
     ],
     "language": "python",
     "metadata": {},
     "outputs": [
      {
       "output_type": "pyout",
       "prompt_number": 9,
       "text": [
        "Cali        NaN\n",
        "Ohio      35000\n",
        "Oregon    16000\n",
        "Texas     71000"
       ]
      }
     ],
     "prompt_number": 9
    },
    {
     "cell_type": "code",
     "collapsed": false,
     "input": [
      "print pd.isnull(obj4)\n",
      "print '\\n'\n",
      "print obj4.isnull()"
     ],
     "language": "python",
     "metadata": {},
     "outputs": [
      {
       "output_type": "stream",
       "stream": "stdout",
       "text": [
        "Cali       True\n",
        "Ohio      False\n",
        "Oregon    False\n",
        "Texas     False\n",
        "\n",
        "\n",
        "Cali       True\n",
        "Ohio      False\n",
        "Oregon    False\n",
        "Texas     False\n"
       ]
      }
     ],
     "prompt_number": 10
    },
    {
     "cell_type": "code",
     "collapsed": false,
     "input": [
      "print obj3, '\\n\\n', obj4\n",
      "\n",
      "obj3 + obj4 #different index are alligned \n",
      "\n"
     ],
     "language": "python",
     "metadata": {},
     "outputs": [
      {
       "output_type": "stream",
       "stream": "stdout",
       "text": [
        "Ohio      35000\n",
        "Oregon    16000\n",
        "Texas     71000\n",
        "Utah       5000 \n",
        "\n",
        "Cali        NaN\n",
        "Ohio      35000\n",
        "Oregon    16000\n",
        "Texas     71000\n"
       ]
      },
      {
       "output_type": "pyout",
       "prompt_number": 11,
       "text": [
        "Cali         NaN\n",
        "Ohio       70000\n",
        "Oregon     32000\n",
        "Texas     142000\n",
        "Utah         NaN"
       ]
      }
     ],
     "prompt_number": 11
    },
    {
     "cell_type": "code",
     "collapsed": false,
     "input": [
      "print obj4, '\\n\\n' \n",
      "\n",
      "obj4.name = 'population' \n",
      "\n",
      "obj4.index.name = 'state'\n",
      "\n",
      "obj4"
     ],
     "language": "python",
     "metadata": {},
     "outputs": [
      {
       "output_type": "stream",
       "stream": "stdout",
       "text": [
        "Cali        NaN\n",
        "Ohio      35000\n",
        "Oregon    16000\n",
        "Texas     71000 \n",
        "\n",
        "\n"
       ]
      },
      {
       "output_type": "pyout",
       "prompt_number": 12,
       "text": [
        "state\n",
        "Cali        NaN\n",
        "Ohio      35000\n",
        "Oregon    16000\n",
        "Texas     71000\n",
        "Name: population"
       ]
      }
     ],
     "prompt_number": 12
    },
    {
     "cell_type": "code",
     "collapsed": false,
     "input": [
      "obj.index = ['Bob', 'Steve', 'Jeff', 'Ryan']\n",
      "\n",
      "obj"
     ],
     "language": "python",
     "metadata": {},
     "outputs": [
      {
       "output_type": "pyout",
       "prompt_number": 13,
       "text": [
        "Bob      4\n",
        "Steve    7\n",
        "Jeff    -5\n",
        "Ryan     3"
       ]
      }
     ],
     "prompt_number": 13
    },
    {
     "cell_type": "code",
     "collapsed": false,
     "input": [
      "data = {'state': ['Ohio', 'Ohio', 'Ohio', 'Nevada', \"Nevada\"] ,\n",
      "        'year': [2000, 2001, 2002, 2001, 2002],\n",
      "        'pop': [1.5, 1.7, 3.6, 2.4, 2.9]}\n",
      "frame = DataFrame(data)\n",
      "\n",
      "frame"
     ],
     "language": "python",
     "metadata": {},
     "outputs": [
      {
       "html": [
        "<div style=\"max-height:1000px;max-width:1500px;overflow:auto;\">\n",
        "<table border=\"1\" class=\"dataframe\">\n",
        "  <thead>\n",
        "    <tr style=\"text-align: right;\">\n",
        "      <th></th>\n",
        "      <th>pop</th>\n",
        "      <th>state</th>\n",
        "      <th>year</th>\n",
        "    </tr>\n",
        "  </thead>\n",
        "  <tbody>\n",
        "    <tr>\n",
        "      <th>0</th>\n",
        "      <td> 1.5</td>\n",
        "      <td>   Ohio</td>\n",
        "      <td> 2000</td>\n",
        "    </tr>\n",
        "    <tr>\n",
        "      <th>1</th>\n",
        "      <td> 1.7</td>\n",
        "      <td>   Ohio</td>\n",
        "      <td> 2001</td>\n",
        "    </tr>\n",
        "    <tr>\n",
        "      <th>2</th>\n",
        "      <td> 3.6</td>\n",
        "      <td>   Ohio</td>\n",
        "      <td> 2002</td>\n",
        "    </tr>\n",
        "    <tr>\n",
        "      <th>3</th>\n",
        "      <td> 2.4</td>\n",
        "      <td> Nevada</td>\n",
        "      <td> 2001</td>\n",
        "    </tr>\n",
        "    <tr>\n",
        "      <th>4</th>\n",
        "      <td> 2.9</td>\n",
        "      <td> Nevada</td>\n",
        "      <td> 2002</td>\n",
        "    </tr>\n",
        "  </tbody>\n",
        "</table>\n",
        "</div>"
       ],
       "output_type": "pyout",
       "prompt_number": 14,
       "text": [
        "   pop   state  year\n",
        "0  1.5    Ohio  2000\n",
        "1  1.7    Ohio  2001\n",
        "2  3.6    Ohio  2002\n",
        "3  2.4  Nevada  2001\n",
        "4  2.9  Nevada  2002"
       ]
      }
     ],
     "prompt_number": 14
    },
    {
     "cell_type": "code",
     "collapsed": false,
     "input": [
      "DataFrame(data, columns=['year', 'state', 'pop'])\n",
      "\n"
     ],
     "language": "python",
     "metadata": {},
     "outputs": [
      {
       "html": [
        "<div style=\"max-height:1000px;max-width:1500px;overflow:auto;\">\n",
        "<table border=\"1\" class=\"dataframe\">\n",
        "  <thead>\n",
        "    <tr style=\"text-align: right;\">\n",
        "      <th></th>\n",
        "      <th>year</th>\n",
        "      <th>state</th>\n",
        "      <th>pop</th>\n",
        "    </tr>\n",
        "  </thead>\n",
        "  <tbody>\n",
        "    <tr>\n",
        "      <th>0</th>\n",
        "      <td> 2000</td>\n",
        "      <td>   Ohio</td>\n",
        "      <td> 1.5</td>\n",
        "    </tr>\n",
        "    <tr>\n",
        "      <th>1</th>\n",
        "      <td> 2001</td>\n",
        "      <td>   Ohio</td>\n",
        "      <td> 1.7</td>\n",
        "    </tr>\n",
        "    <tr>\n",
        "      <th>2</th>\n",
        "      <td> 2002</td>\n",
        "      <td>   Ohio</td>\n",
        "      <td> 3.6</td>\n",
        "    </tr>\n",
        "    <tr>\n",
        "      <th>3</th>\n",
        "      <td> 2001</td>\n",
        "      <td> Nevada</td>\n",
        "      <td> 2.4</td>\n",
        "    </tr>\n",
        "    <tr>\n",
        "      <th>4</th>\n",
        "      <td> 2002</td>\n",
        "      <td> Nevada</td>\n",
        "      <td> 2.9</td>\n",
        "    </tr>\n",
        "  </tbody>\n",
        "</table>\n",
        "</div>"
       ],
       "output_type": "pyout",
       "prompt_number": 15,
       "text": [
        "   year   state  pop\n",
        "0  2000    Ohio  1.5\n",
        "1  2001    Ohio  1.7\n",
        "2  2002    Ohio  3.6\n",
        "3  2001  Nevada  2.4\n",
        "4  2002  Nevada  2.9"
       ]
      }
     ],
     "prompt_number": 15
    },
    {
     "cell_type": "code",
     "collapsed": false,
     "input": [
      "frame2 = DataFrame(data, columns=['year', 'state', 'pop', 'debt'], \n",
      "                   index = ['one', 'two', 'three', 'four', 'five'])\n",
      "print frame2, '\\n'\n",
      "\n",
      "frame2.columns"
     ],
     "language": "python",
     "metadata": {},
     "outputs": [
      {
       "output_type": "stream",
       "stream": "stdout",
       "text": [
        "       year   state  pop debt\n",
        "one    2000    Ohio  1.5  NaN\n",
        "two    2001    Ohio  1.7  NaN\n",
        "three  2002    Ohio  3.6  NaN\n",
        "four   2001  Nevada  2.4  NaN\n",
        "five   2002  Nevada  2.9  NaN \n",
        "\n"
       ]
      },
      {
       "output_type": "pyout",
       "prompt_number": 16,
       "text": [
        "Index([year, state, pop, debt], dtype=object)"
       ]
      }
     ],
     "prompt_number": 16
    },
    {
     "cell_type": "code",
     "collapsed": false,
     "input": [
      "print frame2['state'],'\\n'\n",
      "print frame2.year, '\\n'\n",
      "\n",
      "frame2.ix['three']\n"
     ],
     "language": "python",
     "metadata": {},
     "outputs": [
      {
       "output_type": "stream",
       "stream": "stdout",
       "text": [
        "one        Ohio\n",
        "two        Ohio\n",
        "three      Ohio\n",
        "four     Nevada\n",
        "five     Nevada\n",
        "Name: state \n",
        "\n",
        "one      2000\n",
        "two      2001\n",
        "three    2002\n",
        "four     2001\n",
        "five     2002\n",
        "Name: year \n",
        "\n"
       ]
      },
      {
       "output_type": "pyout",
       "prompt_number": 17,
       "text": [
        "year     2002\n",
        "state    Ohio\n",
        "pop       3.6\n",
        "debt      NaN\n",
        "Name: three"
       ]
      }
     ],
     "prompt_number": 17
    },
    {
     "cell_type": "code",
     "collapsed": false,
     "input": [
      "frame2['debt'] = 16.5\n",
      "print frame2, '\\n'\n",
      "\n",
      "frame2['debt'] = np.arange(5.) #Assigning as array/ list the length MUST match\n",
      "print frame2, '\\n'\n",
      "\n",
      "val = Series([-1.2, -1.5, -1.7], index = ['two', 'four', 'five'])\n",
      "\n",
      "frame2['debt'] = val #As for Series it alligns the data with index for you \n",
      "print frame2, '\\n'"
     ],
     "language": "python",
     "metadata": {},
     "outputs": [
      {
       "output_type": "stream",
       "stream": "stdout",
       "text": [
        "       year   state  pop  debt\n",
        "one    2000    Ohio  1.5  16.5\n",
        "two    2001    Ohio  1.7  16.5\n",
        "three  2002    Ohio  3.6  16.5\n",
        "four   2001  Nevada  2.4  16.5\n",
        "five   2002  Nevada  2.9  16.5 \n",
        "\n",
        "       year   state  pop  debt\n",
        "one    2000    Ohio  1.5     0\n",
        "two    2001    Ohio  1.7     1\n",
        "three  2002    Ohio  3.6     2\n",
        "four   2001  Nevada  2.4     3\n",
        "five   2002  Nevada  2.9     4 \n",
        "\n",
        "       year   state  pop  debt\n",
        "one    2000    Ohio  1.5   NaN\n",
        "two    2001    Ohio  1.7  -1.2\n",
        "three  2002    Ohio  3.6   NaN\n",
        "four   2001  Nevada  2.4  -1.5\n",
        "five   2002  Nevada  2.9  -1.7 \n",
        "\n"
       ]
      }
     ],
     "prompt_number": 18
    },
    {
     "cell_type": "code",
     "collapsed": false,
     "input": [
      "frame2['eastern'] = frame2.state == 'Ohio' \n",
      "print frame2, '\\n'\n",
      "\n",
      "del frame2['eastern']\n",
      "print frame2.columns, '\\n'\n",
      "print frame2"
     ],
     "language": "python",
     "metadata": {},
     "outputs": [
      {
       "output_type": "stream",
       "stream": "stdout",
       "text": [
        "       year   state  pop  debt eastern\n",
        "one    2000    Ohio  1.5   NaN    True\n",
        "two    2001    Ohio  1.7  -1.2    True\n",
        "three  2002    Ohio  3.6   NaN    True\n",
        "four   2001  Nevada  2.4  -1.5   False\n",
        "five   2002  Nevada  2.9  -1.7   False \n",
        "\n",
        "Index([year, state, pop, debt], dtype=object) \n",
        "\n",
        "       year   state  pop  debt\n",
        "one    2000    Ohio  1.5   NaN\n",
        "two    2001    Ohio  1.7  -1.2\n",
        "three  2002    Ohio  3.6   NaN\n",
        "four   2001  Nevada  2.4  -1.5\n",
        "five   2002  Nevada  2.9  -1.7\n"
       ]
      }
     ],
     "prompt_number": 19
    },
    {
     "cell_type": "code",
     "collapsed": false,
     "input": [
      "pop = {'Nevada': {2001: 2.4, 2002: 2.9},\n",
      "       'Ohio': {2000: 1.5, 2001: 1.7, 2002: 3.6}}\n",
      "frame3 = DataFrame(pop)\n",
      "print frame3, '\\n'\n",
      "\n",
      "print frame3.T, '\\n'\n",
      "\n",
      "# the keys in the inner dicts are unioned and sorted"
     ],
     "language": "python",
     "metadata": {},
     "outputs": [
      {
       "output_type": "stream",
       "stream": "stdout",
       "text": [
        "      Nevada  Ohio\n",
        "2000     NaN   1.5\n",
        "2001     2.4   1.7\n",
        "2002     2.9   3.6 \n",
        "\n",
        "        2000  2001  2002\n",
        "Nevada   NaN   2.4   2.9\n",
        "Ohio     1.5   1.7   3.6 \n",
        "\n"
       ]
      }
     ],
     "prompt_number": 20
    },
    {
     "cell_type": "code",
     "collapsed": false,
     "input": [
      "print DataFrame(pop, index=[2001, 2002, 2003]) # looks different\n",
      "print DataFrame(pop, index=[2000, 2002, 2001, 2003, 2001]) # looks different"
     ],
     "language": "python",
     "metadata": {},
     "outputs": [
      {
       "output_type": "stream",
       "stream": "stdout",
       "text": [
        "      Nevada  Ohio\n",
        "2001     2.4   1.7\n",
        "2002     2.9   3.6\n",
        "2003     NaN   NaN\n",
        "      Nevada  Ohio\n",
        "2000     NaN   1.5\n",
        "2002     2.9   3.6\n",
        "2001     2.4   1.7\n",
        "2003     NaN   NaN\n",
        "2001     2.4   1.7\n"
       ]
      }
     ],
     "prompt_number": 21
    },
    {
     "cell_type": "code",
     "collapsed": false,
     "input": [
      "frame3.index.name = 'year'; frame3.columns.name = 'state'\n",
      "print frame3 #index & columns has names"
     ],
     "language": "python",
     "metadata": {},
     "outputs": [
      {
       "output_type": "stream",
       "stream": "stdout",
       "text": [
        "state  Nevada  Ohio\n",
        "year               \n",
        "2000      NaN   1.5\n",
        "2001      2.4   1.7\n",
        "2002      2.9   3.6\n"
       ]
      }
     ],
     "prompt_number": 22
    },
    {
     "cell_type": "code",
     "collapsed": false,
     "input": [
      "print frame3.values, '\\n'\n",
      "frame2.values"
     ],
     "language": "python",
     "metadata": {},
     "outputs": [
      {
       "output_type": "stream",
       "stream": "stdout",
       "text": [
        "[[ nan  1.5]\n",
        " [ 2.4  1.7]\n",
        " [ 2.9  3.6]] \n",
        "\n"
       ]
      },
      {
       "output_type": "pyout",
       "prompt_number": 23,
       "text": [
        "array([[2000L, 'Ohio', 1.5, nan],\n",
        "       [2001L, 'Ohio', 1.7, -1.2],\n",
        "       [2002L, 'Ohio', 3.6, nan],\n",
        "       [2001L, 'Nevada', 2.4, -1.5],\n",
        "       [2002L, 'Nevada', 2.9, -1.7]], dtype=object)"
       ]
      }
     ],
     "prompt_number": 23
    },
    {
     "cell_type": "code",
     "collapsed": false,
     "input": [
      "obj = Series(range(3), index=['a', 'b', 'c'])\n",
      "\n",
      "index= obj.index\n",
      "\n",
      "print index, '\\n'\n",
      "\n",
      "print index[1:], '\\n'\n",
      "\n",
      "index[1] = 'd' ###Index object is IMMUTABLE thus CAN'T be modified\n"
     ],
     "language": "python",
     "metadata": {},
     "outputs": [
      {
       "ename": "Exception",
       "evalue": "<class 'pandas.core.index.Index'> object is immutable",
       "output_type": "pyerr",
       "traceback": [
        "\u001b[1;31m---------------------------------------------------------------------------\u001b[0m\n\u001b[1;31mException\u001b[0m                                 Traceback (most recent call last)",
        "\u001b[1;32m<ipython-input-24-daeba32d51cf>\u001b[0m in \u001b[0;36m<module>\u001b[1;34m()\u001b[0m\n\u001b[0;32m      7\u001b[0m \u001b[1;32mprint\u001b[0m \u001b[0mindex\u001b[0m\u001b[1;33m[\u001b[0m\u001b[1;36m1\u001b[0m\u001b[1;33m:\u001b[0m\u001b[1;33m]\u001b[0m\u001b[1;33m,\u001b[0m \u001b[1;34m'\\n'\u001b[0m\u001b[1;33m\u001b[0m\u001b[0m\n\u001b[0;32m      8\u001b[0m \u001b[1;33m\u001b[0m\u001b[0m\n\u001b[1;32m----> 9\u001b[1;33m \u001b[0mindex\u001b[0m\u001b[1;33m[\u001b[0m\u001b[1;36m1\u001b[0m\u001b[1;33m]\u001b[0m \u001b[1;33m=\u001b[0m \u001b[1;34m'd'\u001b[0m \u001b[1;31m###Index object is IMMUTABLE thus CAN'T be modified\u001b[0m\u001b[1;33m\u001b[0m\u001b[0m\n\u001b[0m",
        "\u001b[1;32m/home/ubuntu/anaconda/lib/python2.7/site-packages/pandas/core/index.pyc\u001b[0m in \u001b[0;36m__setitem__\u001b[1;34m(self, key, value)\u001b[0m\n\u001b[0;32m    350\u001b[0m \u001b[1;33m\u001b[0m\u001b[0m\n\u001b[0;32m    351\u001b[0m     \u001b[1;32mdef\u001b[0m \u001b[0m__setitem__\u001b[0m\u001b[1;33m(\u001b[0m\u001b[0mself\u001b[0m\u001b[1;33m,\u001b[0m \u001b[0mkey\u001b[0m\u001b[1;33m,\u001b[0m \u001b[0mvalue\u001b[0m\u001b[1;33m)\u001b[0m\u001b[1;33m:\u001b[0m\u001b[1;33m\u001b[0m\u001b[0m\n\u001b[1;32m--> 352\u001b[1;33m         \u001b[1;32mraise\u001b[0m \u001b[0mException\u001b[0m\u001b[1;33m(\u001b[0m\u001b[0mstr\u001b[0m\u001b[1;33m(\u001b[0m\u001b[0mself\u001b[0m\u001b[1;33m.\u001b[0m\u001b[0m__class__\u001b[0m\u001b[1;33m)\u001b[0m \u001b[1;33m+\u001b[0m \u001b[1;34m' object is immutable'\u001b[0m\u001b[1;33m)\u001b[0m\u001b[1;33m\u001b[0m\u001b[0m\n\u001b[0m\u001b[0;32m    353\u001b[0m \u001b[1;33m\u001b[0m\u001b[0m\n\u001b[0;32m    354\u001b[0m     \u001b[1;32mdef\u001b[0m \u001b[0m__getitem__\u001b[0m\u001b[1;33m(\u001b[0m\u001b[0mself\u001b[0m\u001b[1;33m,\u001b[0m \u001b[0mkey\u001b[0m\u001b[1;33m)\u001b[0m\u001b[1;33m:\u001b[0m\u001b[1;33m\u001b[0m\u001b[0m\n",
        "\u001b[1;31mException\u001b[0m: <class 'pandas.core.index.Index'> object is immutable"
       ]
      },
      {
       "output_type": "stream",
       "stream": "stdout",
       "text": [
        "Index([a, b, c], dtype=object) \n",
        "\n",
        "Index([b, c], dtype=object) \n",
        "\n"
       ]
      }
     ],
     "prompt_number": 24
    },
    {
     "cell_type": "code",
     "collapsed": false,
     "input": [
      "index = pd.Index(np.arange(3))\n",
      "obj2 = Series([1.5, -2.5, 0], index=index)\n",
      "\n",
      "print obj2.index is index, '\\n'\n",
      "print obj2.index == index, '\\n'"
     ],
     "language": "python",
     "metadata": {},
     "outputs": [
      {
       "output_type": "stream",
       "stream": "stdout",
       "text": [
        "True \n",
        "\n",
        "[ True  True  True] \n",
        "\n"
       ]
      }
     ],
     "prompt_number": 25
    },
    {
     "cell_type": "code",
     "collapsed": false,
     "input": [
      "print frame3, '\\n'\n",
      "print \"Ohio\" in frame3.columns, '\\n'\n",
      "print 2003 in frame3.index, '\\n'\n",
      "\n",
      "frame3.index.is_unique"
     ],
     "language": "python",
     "metadata": {},
     "outputs": [
      {
       "output_type": "stream",
       "stream": "stdout",
       "text": [
        "state  Nevada  Ohio\n",
        "year               \n",
        "2000      NaN   1.5\n",
        "2001      2.4   1.7\n",
        "2002      2.9   3.6 \n",
        "\n",
        "True \n",
        "\n",
        "False \n",
        "\n"
       ]
      },
      {
       "output_type": "pyout",
       "prompt_number": 26,
       "text": [
        "True"
       ]
      }
     ],
     "prompt_number": 26
    },
    {
     "cell_type": "code",
     "collapsed": false,
     "input": [
      "obj = Series([4.5, 7.2, -5.3, 3.6], index=['d', 'b', 'a', 'c'])\n",
      "print obj, '\\n'\n",
      "\n",
      "obj2 = obj.reindex(['a', 'b', 'c', 'd', 'e'])\n",
      "print obj2, '\\n'\n",
      "\n",
      "print obj.reindex(['a', 'b', 'c', 'd', 'e'], fill_value=0), '\\n'\n",
      "\n",
      "obj3 = Series(['blur', 'purple', 'yellow'], index=[0, 2, 4])\n",
      "\n",
      "print obj3.reindex(range(6), method='ffill'), '\\n' #forward fill\n",
      "print obj3.reindex(range(6), method='bfill'), '\\n' #backward fill"
     ],
     "language": "python",
     "metadata": {},
     "outputs": [
      {
       "output_type": "stream",
       "stream": "stdout",
       "text": [
        "d    4.5\n",
        "b    7.2\n",
        "a   -5.3\n",
        "c    3.6 \n",
        "\n",
        "a   -5.3\n",
        "b    7.2\n",
        "c    3.6\n",
        "d    4.5\n",
        "e    NaN \n",
        "\n",
        "a   -5.3\n",
        "b    7.2\n",
        "c    3.6\n",
        "d    4.5\n",
        "e    0.0 \n",
        "\n",
        "0      blur\n",
        "1      blur\n",
        "2    purple\n",
        "3    purple\n",
        "4    yellow\n",
        "5    yellow \n",
        "\n",
        "0      blur\n",
        "1    purple\n",
        "2    purple\n",
        "3    yellow\n",
        "4    yellow\n",
        "5       NaN \n",
        "\n"
       ]
      }
     ],
     "prompt_number": 27
    },
    {
     "cell_type": "code",
     "collapsed": false,
     "input": [
      "frame = DataFrame(np.arange(9).reshape(3,3), index=['a', 'c', 'd'],\n",
      "                  columns=['Ohio', 'Texas', 'California'])\n",
      "print frame, '\\n'\n",
      "\n",
      "frame2 = frame.reindex(['a','b','c', 'd'])\n",
      "\n",
      "print frame2, '\\n'\n",
      "\n",
      "states = ['Texas', 'Utah', 'California']\n",
      "\n",
      "print frame.reindex(columns=states), '\\n'\n",
      "\n",
      "print frame.reind ex(index = ['a','b','c', 'd'], columns=states, method='ffill'), '\\n' #interpolation ONLY applies to ROW\n",
      "\n",
      "print frame.ix[['a', 'b', 'd', 'c'], states] #use .ix to reproduce what it makes with reindex\n",
      "\n",
      "test = frame.ix[['a', 'b', 'd', 'c'], states]\n",
      "test.fillna(method = 'ffill')\n"
     ],
     "language": "python",
     "metadata": {},
     "outputs": [
      {
       "ename": "SyntaxError",
       "evalue": "invalid syntax (<ipython-input-28-e2491aa644f1>, line 13)",
       "output_type": "pyerr",
       "traceback": [
        "\u001b[1;36m  File \u001b[1;32m\"<ipython-input-28-e2491aa644f1>\"\u001b[1;36m, line \u001b[1;32m13\u001b[0m\n\u001b[1;33m    print frame.reind ex(index = ['a','b','c', 'd'], columns=states, method='ffill'), '\\n' #interpolation ONLY applies to ROW\u001b[0m\n\u001b[1;37m                       ^\u001b[0m\n\u001b[1;31mSyntaxError\u001b[0m\u001b[1;31m:\u001b[0m invalid syntax\n"
       ]
      }
     ],
     "prompt_number": 28
    },
    {
     "cell_type": "code",
     "collapsed": false,
     "input": [
      "#Drop entries from AXIS\n",
      "#use del to delete column\n",
      "obj = Series(np.arange(5.), index=['a', 'b', 'd', 'c', 'e'])\n",
      "\n",
      "new_obj = obj.drop('c')\n",
      "\n",
      "print new_obj, '\\n'\n",
      "\n",
      "new_obj = obj.drop(['c', 'd'])\n",
      "\n",
      "print new_obj\n"
     ],
     "language": "python",
     "metadata": {},
     "outputs": [
      {
       "output_type": "stream",
       "stream": "stdout",
       "text": [
        "a    0\n",
        "b    1\n",
        "d    2\n",
        "e    4 \n",
        "\n",
        "a    0\n",
        "b    1\n",
        "e    4\n"
       ]
      }
     ],
     "prompt_number": 29
    },
    {
     "cell_type": "code",
     "collapsed": false,
     "input": [
      "data = DataFrame(np.arange(16).reshape(4,4),\n",
      "                 index=['Ohio', 'Colorado', 'Utah', 'New York'],\n",
      "                 columns = ['one', 'two', 'three', 'four'])\n",
      "print data, '\\n'\n",
      "print data.drop(['Colorado', 'Ohio']), '\\n'\n",
      "print data.drop('two', axis = 1), '\\n' # specify axis = 1 to delete column, same thing as Del function\n",
      "print data.drop(['two','four'], axis = 1)"
     ],
     "language": "python",
     "metadata": {},
     "outputs": [
      {
       "output_type": "stream",
       "stream": "stdout",
       "text": [
        "          one  two  three  four\n",
        "Ohio        0    1      2     3\n",
        "Colorado    4    5      6     7\n",
        "Utah        8    9     10    11\n",
        "New York   12   13     14    15 \n",
        "\n",
        "          one  two  three  four\n",
        "Utah        8    9     10    11\n",
        "New York   12   13     14    15 \n",
        "\n",
        "          one  three  four\n",
        "Ohio        0      2     3\n",
        "Colorado    4      6     7\n",
        "Utah        8     10    11\n",
        "New York   12     14    15 \n",
        "\n",
        "          one  three\n",
        "Ohio        0      2\n",
        "Colorado    4      6\n",
        "Utah        8     10\n",
        "New York   12     14\n"
       ]
      }
     ],
     "prompt_number": 30
    },
    {
     "cell_type": "code",
     "collapsed": false,
     "input": [
      "obj = Series(np.arange(4.), index=['a', 'b','c','d'])\n",
      "print obj['b'], '\\n'\n",
      "print obj[1], '\\n'\n",
      "print obj[obj < 2], '\\n'"
     ],
     "language": "python",
     "metadata": {},
     "outputs": [
      {
       "output_type": "stream",
       "stream": "stdout",
       "text": [
        "1.0 \n",
        "\n",
        "1.0 \n",
        "\n",
        "a    0\n",
        "b    1 \n",
        "\n"
       ]
      }
     ],
     "prompt_number": 31
    },
    {
     "cell_type": "code",
     "collapsed": false,
     "input": [
      "print obj[2:4], '\\n'\n",
      "print obj[['a', 'c', 'd']], '\\n'\n",
      "print obj[[1,3]], '\\n'"
     ],
     "language": "python",
     "metadata": {},
     "outputs": [
      {
       "output_type": "stream",
       "stream": "stdout",
       "text": [
        "c    2\n",
        "d    3 \n",
        "\n",
        "a    0\n",
        "c    2\n",
        "d    3 \n",
        "\n",
        "b    1\n",
        "d    3 \n",
        "\n"
       ]
      }
     ],
     "prompt_number": 32
    },
    {
     "cell_type": "code",
     "collapsed": false,
     "input": [
      "print obj['a' : 'c'], '\\n' #Slicing by label is inclusive on both ends\n",
      "obj['b':'c'] = 5\n",
      "print obj, '\\n'"
     ],
     "language": "python",
     "metadata": {},
     "outputs": [
      {
       "output_type": "stream",
       "stream": "stdout",
       "text": [
        "a    0\n",
        "b    1\n",
        "c    2 \n",
        "\n",
        "a    0\n",
        "b    5\n",
        "c    5\n",
        "d    3 \n",
        "\n"
       ]
      }
     ],
     "prompt_number": 33
    },
    {
     "cell_type": "code",
     "collapsed": false,
     "input": [
      "data = DataFrame(np.arange(16).reshape(4,4),\n",
      "                 index=['Ohio', 'Colorado', 'Utah', 'New York'],\n",
      "                 columns = ['one', 'two', 'three', 'four'])\n",
      "print data, '\\n'\n",
      "print data['two'], '\\n'\n",
      "print data[['three', 'one']], '\\n'\n",
      "print data[:2], '\\n' #row 0 & row 1\n",
      "print data[data['three'] > 5], '\\n'\n",
      "print data < 5, '\\n'\n",
      "data[data < 5] = 5\n",
      "print data, '\\n'"
     ],
     "language": "python",
     "metadata": {},
     "outputs": [
      {
       "output_type": "stream",
       "stream": "stdout",
       "text": [
        "          one  two  three  four\n",
        "Ohio        0    1      2     3\n",
        "Colorado    4    5      6     7\n",
        "Utah        8    9     10    11\n",
        "New York   12   13     14    15 \n",
        "\n",
        "Ohio         1\n",
        "Colorado     5\n",
        "Utah         9\n",
        "New York    13\n",
        "Name: two \n",
        "\n",
        "          three  one\n",
        "Ohio          2    0\n",
        "Colorado      6    4\n",
        "Utah         10    8\n",
        "New York     14   12 \n",
        "\n",
        "          one  two  three  four\n",
        "Ohio        0    1      2     3\n",
        "Colorado    4    5      6     7 \n",
        "\n",
        "          one  two  three  four\n",
        "Colorado    4    5      6     7\n",
        "Utah        8    9     10    11\n",
        "New York   12   13     14    15 \n",
        "\n",
        "            one    two  three   four\n",
        "Ohio       True   True   True   True\n",
        "Colorado   True  False  False  False\n",
        "Utah      False  False  False  False\n",
        "New York  False  False  False  False \n",
        "\n",
        "          one  two  three  four\n",
        "Ohio        5    5      5     5\n",
        "Colorado    5    5      6     7\n",
        "Utah        8    9     10    11\n",
        "New York   12   13     14    15 \n",
        "\n"
       ]
      }
     ],
     "prompt_number": 34
    },
    {
     "cell_type": "code",
     "collapsed": false,
     "input": [
      "print data \n",
      "print data.ix[['Colorado', 'Utah'], ['two', 'three']], '\\n'\n",
      "print data.ix[['Colorado'], [3,0,1]], '\\n'\n",
      "print data.ix[2], '\\n' #3rd row\n",
      "print data.ix[ :'Utah', 'two'], '\\n'\n",
      "print data.ix[2,:], '\\n' #3rd row \n",
      "print data.ix[:,2], '\\n' #3rd col\n",
      "print data.ix[data.three > 5, :3]"
     ],
     "language": "python",
     "metadata": {},
     "outputs": [
      {
       "output_type": "stream",
       "stream": "stdout",
       "text": [
        "          one  two  three  four\n",
        "Ohio        5    5      5     5\n",
        "Colorado    5    5      6     7\n",
        "Utah        8    9     10    11\n",
        "New York   12   13     14    15\n",
        "          two  three\n",
        "Colorado    5      6\n",
        "Utah        9     10 \n",
        "\n",
        "          four  one  two\n",
        "Colorado     7    5    5 \n",
        "\n",
        "one       8\n",
        "two       9\n",
        "three    10\n",
        "four     11\n",
        "Name: Utah \n",
        "\n",
        "Ohio        5\n",
        "Colorado    5\n",
        "Utah        9\n",
        "Name: two \n",
        "\n",
        "one       8\n",
        "two       9\n",
        "three    10\n",
        "four     11\n",
        "Name: Utah \n",
        "\n",
        "Ohio         5\n",
        "Colorado     6\n",
        "Utah        10\n",
        "New York    14\n",
        "Name: three \n",
        "\n",
        "          one  two  three\n",
        "Colorado    5    5      6\n",
        "Utah        8    9     10\n",
        "New York   12   13     14\n"
       ]
      }
     ],
     "prompt_number": 35
    },
    {
     "cell_type": "code",
     "collapsed": false,
     "input": [
      "s1 = Series([7.3, -2.5, 3.4, 1.5], index = ['a', 'c', 'd', 'e'])\n",
      "s2 = Series([-2.1, 3.6, -1.5, 4, 3.1], index = ['a', 'c', 'e', 'f', 'g'])\n",
      "\n",
      "print s1, '\\n\\n', s2, '\\n'\n",
      "print s1 + s2"
     ],
     "language": "python",
     "metadata": {},
     "outputs": [
      {
       "output_type": "stream",
       "stream": "stdout",
       "text": [
        "a    7.3\n",
        "c   -2.5\n",
        "d    3.4\n",
        "e    1.5 \n",
        "\n",
        "a   -2.1\n",
        "c    3.6\n",
        "e   -1.5\n",
        "f    4.0\n",
        "g    3.1 \n",
        "\n",
        "a    5.2\n",
        "c    1.1\n",
        "d    NaN\n",
        "e    0.0\n",
        "f    NaN\n",
        "g    NaN\n"
       ]
      }
     ],
     "prompt_number": 36
    },
    {
     "cell_type": "code",
     "collapsed": false,
     "input": [
      "df1 = DataFrame(np.arange(9.).reshape((3,3)), columns=list('bcd'), \n",
      "                index=['Ohio', \"Texas\", 'Colorado'])\n",
      "\n",
      "df2 = DataFrame(np.arange(12.).reshape((4,3)), columns=list('bde'), \n",
      "                index=['Utah', 'Ohio', \"Texas\", 'Oregon'])\n",
      "df1 + df2"
     ],
     "language": "python",
     "metadata": {},
     "outputs": [
      {
       "html": [
        "<div style=\"max-height:1000px;max-width:1500px;overflow:auto;\">\n",
        "<table border=\"1\" class=\"dataframe\">\n",
        "  <thead>\n",
        "    <tr style=\"text-align: right;\">\n",
        "      <th></th>\n",
        "      <th>b</th>\n",
        "      <th>c</th>\n",
        "      <th>d</th>\n",
        "      <th>e</th>\n",
        "    </tr>\n",
        "  </thead>\n",
        "  <tbody>\n",
        "    <tr>\n",
        "      <th>Colorado</th>\n",
        "      <td>NaN</td>\n",
        "      <td>NaN</td>\n",
        "      <td>NaN</td>\n",
        "      <td>NaN</td>\n",
        "    </tr>\n",
        "    <tr>\n",
        "      <th>Ohio</th>\n",
        "      <td>  3</td>\n",
        "      <td>NaN</td>\n",
        "      <td>  6</td>\n",
        "      <td>NaN</td>\n",
        "    </tr>\n",
        "    <tr>\n",
        "      <th>Oregon</th>\n",
        "      <td>NaN</td>\n",
        "      <td>NaN</td>\n",
        "      <td>NaN</td>\n",
        "      <td>NaN</td>\n",
        "    </tr>\n",
        "    <tr>\n",
        "      <th>Texas</th>\n",
        "      <td>  9</td>\n",
        "      <td>NaN</td>\n",
        "      <td> 12</td>\n",
        "      <td>NaN</td>\n",
        "    </tr>\n",
        "    <tr>\n",
        "      <th>Utah</th>\n",
        "      <td>NaN</td>\n",
        "      <td>NaN</td>\n",
        "      <td>NaN</td>\n",
        "      <td>NaN</td>\n",
        "    </tr>\n",
        "  </tbody>\n",
        "</table>\n",
        "</div>"
       ],
       "output_type": "pyout",
       "prompt_number": 38,
       "text": [
        "           b   c   d   e\n",
        "Colorado NaN NaN NaN NaN\n",
        "Ohio       3 NaN   6 NaN\n",
        "Oregon   NaN NaN NaN NaN\n",
        "Texas      9 NaN  12 NaN\n",
        "Utah     NaN NaN NaN NaN"
       ]
      }
     ],
     "prompt_number": 38
    },
    {
     "cell_type": "code",
     "collapsed": false,
     "input": [
      "df1 = DataFrame(np.arange(12.).reshape((3,4)), columns=list('abcd'))\n",
      "df2 = DataFrame(np.arange(20.).reshape((4,5)), columns=list('abcde'))\n",
      "\n",
      "print df1 + df2, '\\n'\n",
      "print df1.add(df2, fill_value=0), '\\n'\n",
      "print df1.reindex(columns=df2.columns), '\\n'\n",
      "print df1.reindex(columns=df2.columns, fill_value=0), '\\n'\n"
     ],
     "language": "python",
     "metadata": {},
     "outputs": [
      {
       "output_type": "stream",
       "stream": "stdout",
       "text": [
        "    a   b   c   d   e\n",
        "0   0   2   4   6 NaN\n",
        "1   9  11  13  15 NaN\n",
        "2  18  20  22  24 NaN\n",
        "3 NaN NaN NaN NaN NaN \n",
        "\n",
        "    a   b   c   d   e\n",
        "0   0   2   4   6   4\n",
        "1   9  11  13  15   9\n",
        "2  18  20  22  24  14\n",
        "3  15  16  17  18  19 \n",
        "\n",
        "   a  b   c   d   e\n",
        "0  0  1   2   3 NaN\n",
        "1  4  5   6   7 NaN\n",
        "2  8  9  10  11 NaN \n",
        "\n",
        "   a  b   c   d  e\n",
        "0  0  1   2   3  0\n",
        "1  4  5   6   7  0\n",
        "2  8  9  10  11  0 \n",
        "\n"
       ]
      }
     ],
     "prompt_number": 39
    },
    {
     "cell_type": "code",
     "collapsed": false,
     "input": [
      "frame = DataFrame(np.arange(12.).reshape((4,3)), columns=list('bcd'), \n",
      "                index=['Utah', 'Ohio', \"Texas\", 'Colorado'])\n",
      "series1 = frame.ix[0] #1st row\n",
      "series2 = frame.ix[:,1] #2nd col\n",
      "print frame - series1, '\\n'\n",
      "print frame - series2, '\\n' #arithmic only occurs in the row fashion\n",
      "print frame.sub(series2, axis=0) #this produce the desired results\n",
      "series3 = Series(range(3), index=list('bef'))\n",
      "frame + series3"
     ],
     "language": "python",
     "metadata": {},
     "outputs": [
      {
       "output_type": "stream",
       "stream": "stdout",
       "text": [
        "          b  c  d\n",
        "Utah      0  0  0\n",
        "Ohio      3  3  3\n",
        "Texas     6  6  6\n",
        "Colorado  9  9  9 \n",
        "\n",
        "          Colorado  Ohio  Texas  Utah   b   c   d\n",
        "Utah           NaN   NaN    NaN   NaN NaN NaN NaN\n",
        "Ohio           NaN   NaN    NaN   NaN NaN NaN NaN\n",
        "Texas          NaN   NaN    NaN   NaN NaN NaN NaN\n",
        "Colorado       NaN   NaN    NaN   NaN NaN NaN NaN \n",
        "\n",
        "          b  c  d\n",
        "Utah     -1  0  1\n",
        "Ohio     -1  0  1\n",
        "Texas    -1  0  1\n",
        "Colorado -1  0  1\n"
       ]
      },
      {
       "html": [
        "<div style=\"max-height:1000px;max-width:1500px;overflow:auto;\">\n",
        "<table border=\"1\" class=\"dataframe\">\n",
        "  <thead>\n",
        "    <tr style=\"text-align: right;\">\n",
        "      <th></th>\n",
        "      <th>b</th>\n",
        "      <th>c</th>\n",
        "      <th>d</th>\n",
        "      <th>e</th>\n",
        "      <th>f</th>\n",
        "    </tr>\n",
        "  </thead>\n",
        "  <tbody>\n",
        "    <tr>\n",
        "      <th>Utah</th>\n",
        "      <td> 0</td>\n",
        "      <td>NaN</td>\n",
        "      <td>NaN</td>\n",
        "      <td>NaN</td>\n",
        "      <td>NaN</td>\n",
        "    </tr>\n",
        "    <tr>\n",
        "      <th>Ohio</th>\n",
        "      <td> 3</td>\n",
        "      <td>NaN</td>\n",
        "      <td>NaN</td>\n",
        "      <td>NaN</td>\n",
        "      <td>NaN</td>\n",
        "    </tr>\n",
        "    <tr>\n",
        "      <th>Texas</th>\n",
        "      <td> 6</td>\n",
        "      <td>NaN</td>\n",
        "      <td>NaN</td>\n",
        "      <td>NaN</td>\n",
        "      <td>NaN</td>\n",
        "    </tr>\n",
        "    <tr>\n",
        "      <th>Colorado</th>\n",
        "      <td> 9</td>\n",
        "      <td>NaN</td>\n",
        "      <td>NaN</td>\n",
        "      <td>NaN</td>\n",
        "      <td>NaN</td>\n",
        "    </tr>\n",
        "  </tbody>\n",
        "</table>\n",
        "</div>"
       ],
       "output_type": "pyout",
       "prompt_number": 40,
       "text": [
        "          b   c   d   e   f\n",
        "Utah      0 NaN NaN NaN NaN\n",
        "Ohio      3 NaN NaN NaN NaN\n",
        "Texas     6 NaN NaN NaN NaN\n",
        "Colorado  9 NaN NaN NaN NaN"
       ]
      }
     ],
     "prompt_number": 40
    },
    {
     "cell_type": "code",
     "collapsed": false,
     "input": [
      "frame = DataFrame(np.random.randn(4,3), columns=list('bde'), \n",
      "                index=['Utah', 'Ohio', \"Texas\", 'Colorado'])\n",
      "print np.abs(frame), '\\n'\n",
      "f = lambda x: x.max() - x.min()\n",
      "print frame.apply(f), '\\n' #applies colwise\n",
      "print frame.apply(f, axis = 1) #applies colwise"
     ],
     "language": "python",
     "metadata": {},
     "outputs": [
      {
       "output_type": "stream",
       "stream": "stdout",
       "text": [
        "                 b         d         e\n",
        "Utah      1.206770  1.205367  0.877846\n",
        "Ohio      0.192344  0.526302  0.817123\n",
        "Texas     1.058211  0.119261  0.067753\n",
        "Colorado  1.689332  2.483523  1.445120 \n",
        "\n",
        "b    2.896102\n",
        "d    3.688890\n",
        "e    2.322966 \n",
        "\n",
        "Utah        2.412137\n",
        "Ohio        1.009467\n",
        "Texas       0.990458\n",
        "Colorado    4.172855\n"
       ]
      }
     ],
     "prompt_number": 41
    },
    {
     "cell_type": "code",
     "collapsed": false,
     "input": [
      "def f(x):\n",
      "    return Series([x.min(), x.max()], index=['min', 'max'])\n",
      "frame.apply(f)"
     ],
     "language": "python",
     "metadata": {},
     "outputs": [
      {
       "output_type": "stream",
       "stream": "stderr",
       "text": [
        "/home/ubuntu/anaconda/lib/python2.7/site-packages/pandas/core/frame.py:3576: FutureWarning: rename with inplace=True  will return None from pandas 0.11 onward\n",
        "  \" from pandas 0.11 onward\", FutureWarning)\n"
       ]
      },
      {
       "html": [
        "<div style=\"max-height:1000px;max-width:1500px;overflow:auto;\">\n",
        "<table border=\"1\" class=\"dataframe\">\n",
        "  <thead>\n",
        "    <tr style=\"text-align: right;\">\n",
        "      <th></th>\n",
        "      <th>b</th>\n",
        "      <th>d</th>\n",
        "      <th>e</th>\n",
        "    </tr>\n",
        "  </thead>\n",
        "  <tbody>\n",
        "    <tr>\n",
        "      <th>min</th>\n",
        "      <td>-0.691778</td>\n",
        "      <td>-1.775140</td>\n",
        "      <td>-0.746399</td>\n",
        "    </tr>\n",
        "    <tr>\n",
        "      <th>max</th>\n",
        "      <td> 0.738549</td>\n",
        "      <td> 0.078085</td>\n",
        "      <td> 1.065275</td>\n",
        "    </tr>\n",
        "  </tbody>\n",
        "</table>\n",
        "</div>"
       ],
       "output_type": "pyout",
       "prompt_number": 260,
       "text": [
        "            b         d         e\n",
        "min -0.691778 -1.775140 -0.746399\n",
        "max  0.738549  0.078085  1.065275"
       ]
      }
     ],
     "prompt_number": 260
    },
    {
     "cell_type": "code",
     "collapsed": false,
     "input": [
      "format = lambda x: '%.2f' % x\n",
      "    \n",
      "print frame.applymap(format), '\\n' #for dataframe it's applymap to conduct elementwise function\n",
      "\n",
      "print frame.e.map(format) # for series it's map function"
     ],
     "language": "python",
     "metadata": {},
     "outputs": [
      {
       "output_type": "stream",
       "stream": "stdout",
       "text": [
        "              b      d      e\n",
        "Utah      -0.69  -0.41  -0.73\n",
        "Ohio      -0.47  -1.78  -0.75\n",
        "Texas     -0.22   0.08   0.81\n",
        "Colorado   0.74  -0.47   1.07 \n",
        "\n",
        "Utah        -0.73\n",
        "Ohio        -0.75\n",
        "Texas        0.81\n",
        "Colorado     1.07\n",
        "Name: e\n"
       ]
      }
     ],
     "prompt_number": 266
    },
    {
     "cell_type": "code",
     "collapsed": false,
     "input": [
      "obj = Series(range(4), index=['d', 'a', 'b', 'c'])\n",
      "print obj.sort_index() # sort index \n"
     ],
     "language": "python",
     "metadata": {},
     "outputs": [
      {
       "output_type": "stream",
       "stream": "stdout",
       "text": [
        "a    1\n",
        "b    2\n",
        "c    3\n",
        "d    0\n"
       ]
      }
     ],
     "prompt_number": 269
    },
    {
     "cell_type": "code",
     "collapsed": false,
     "input": [
      "frame = DataFrame(np.arange(8).reshape(2,4), index=['three', 'one'],\n",
      "                  columns=['d', 'a', 'b', 'c'])\n",
      "print frame, '\\n'\n",
      "print frame.sort_index(), '\\n' #sort index only sort the row/col index\n",
      "print frame.sort_index(1, ascending=False), '\\n' #value of a series is sorted by order() function\n"
     ],
     "language": "python",
     "metadata": {},
     "outputs": [
      {
       "output_type": "stream",
       "stream": "stdout",
       "text": [
        "       d  a  b  c\n",
        "three  0  1  2  3\n",
        "one    4  5  6  7 \n",
        "\n",
        "       d  a  b  c\n",
        "one    4  5  6  7\n",
        "three  0  1  2  3 \n",
        "\n",
        "       d  c  b  a\n",
        "three  0  3  2  1\n",
        "one    4  7  6  5 \n",
        "\n"
       ]
      }
     ],
     "prompt_number": 274
    },
    {
     "cell_type": "code",
     "collapsed": false,
     "input": [
      "obj = Series([4,7,-3,2])\n",
      "print obj.order(), '\\n'\n",
      "print obj[obj.argsort()], '\\n'\n",
      "obj = Series([4, np.nan, 7, np.nan, -3, 2])\n",
      "print obj.order(), '\\n' #NAs are always sorted to the end"
     ],
     "language": "python",
     "metadata": {},
     "outputs": [
      {
       "output_type": "stream",
       "stream": "stdout",
       "text": [
        "2   -3\n",
        "3    2\n",
        "0    4\n",
        "1    7 \n",
        "\n",
        "2   -3\n",
        "3    2\n",
        "0    4\n",
        "1    7 \n",
        "\n",
        "4    -3\n",
        "5     2\n",
        "0     4\n",
        "2     7\n",
        "1   NaN\n",
        "3   NaN \n",
        "\n"
       ]
      }
     ],
     "prompt_number": 48
    },
    {
     "cell_type": "code",
     "collapsed": false,
     "input": [
      "print frame\n",
      "print frame.sort_index(by='b'), '\\n'\n",
      "print frame.sort_index(by = ['e', 'b'], ascending=[0,1]), '\\n'\n",
      "print frame.sort(column= ['e', 'b'], ascending=[0,1]), '\\n'"
     ],
     "language": "python",
     "metadata": {},
     "outputs": [
      {
       "output_type": "stream",
       "stream": "stdout",
       "text": [
        "                 b         d         e\n",
        "Utah     -1.206770  1.205367 -0.877846\n",
        "Ohio      0.192344 -0.526302 -0.817123\n",
        "Texas     1.058211  0.119261  0.067753\n",
        "Colorado  1.689332 -2.483523  1.445120\n",
        "                 b         d         e\n",
        "Utah     -1.206770  1.205367 -0.877846\n",
        "Ohio      0.192344 -0.526302 -0.817123\n",
        "Texas     1.058211  0.119261  0.067753\n",
        "Colorado  1.689332 -2.483523  1.445120 \n",
        "\n",
        "                 b         d         e\n",
        "Colorado  1.689332 -2.483523  1.445120\n",
        "Texas     1.058211  0.119261  0.067753\n",
        "Ohio      0.192344 -0.526302 -0.817123\n",
        "Utah     -1.206770  1.205367 -0.877846 \n",
        "\n",
        "                 b         d         e\n",
        "Colorado  1.689332 -2.483523  1.445120\n",
        "Texas     1.058211  0.119261  0.067753\n",
        "Ohio      0.192344 -0.526302 -0.817123\n",
        "Utah     -1.206770  1.205367 -0.877846 \n",
        "\n"
       ]
      },
      {
       "output_type": "stream",
       "stream": "stderr",
       "text": [
        "/home/ubuntu/anaconda/lib/python2.7/site-packages/pandas/core/frame.py:3112: FutureWarning: column is deprecated, use columns\n",
        "  warnings.warn(\"column is deprecated, use columns\", FutureWarning)\n"
       ]
      }
     ],
     "prompt_number": 57
    },
    {
     "cell_type": "code",
     "collapsed": false,
     "input": [
      "obj = Series([7, -5, 7, 4, 2, 0, 4])\n",
      "print obj, '\\n'\n",
      "print obj.rank(), '\\n'\n",
      "print obj.rank(method='first'), '\\n'\n",
      "print obj.rank(method='max', ascending=False), '\\n'"
     ],
     "language": "python",
     "metadata": {},
     "outputs": [
      {
       "output_type": "stream",
       "stream": "stdout",
       "text": [
        "0    7\n",
        "1   -5\n",
        "2    7\n",
        "3    4\n",
        "4    2\n",
        "5    0\n",
        "6    4 \n",
        "\n",
        "0    6.5\n",
        "1    1.0\n",
        "2    6.5\n",
        "3    4.5\n",
        "4    3.0\n",
        "5    2.0\n",
        "6    4.5 \n",
        "\n",
        "0    6\n",
        "1    1\n",
        "2    7\n",
        "3    4\n",
        "4    3\n",
        "5    2\n",
        "6    5 \n",
        "\n",
        "0    2\n",
        "1    7\n",
        "2    2\n",
        "3    4\n",
        "4    5\n",
        "5    6\n",
        "6    4 \n",
        "\n"
       ]
      }
     ],
     "prompt_number": 61
    },
    {
     "cell_type": "code",
     "collapsed": false,
     "input": [
      "frame = DataFrame({'b': [4.3, 7, -3, 2],\n",
      "                   'a': [0,1,0,1],\n",
      "                   'c': [-2,5,8,-2.5]})\n",
      "print frame.rank(), '\\n'\n",
      "print frame.rank(axis=1), '\\n'"
     ],
     "language": "python",
     "metadata": {},
     "outputs": [
      {
       "output_type": "stream",
       "stream": "stdout",
       "text": [
        "     a  b  c\n",
        "0  1.5  3  2\n",
        "1  3.5  4  3\n",
        "2  1.5  1  4\n",
        "3  3.5  2  1 \n",
        "\n",
        "   a  b  c\n",
        "0  2  3  1\n",
        "1  1  3  2\n",
        "2  2  1  3\n",
        "3  2  3  1 \n",
        "\n"
       ]
      }
     ],
     "prompt_number": 294
    },
    {
     "cell_type": "code",
     "collapsed": false,
     "input": [
      "obj.index.is_unique"
     ],
     "language": "python",
     "metadata": {},
     "outputs": [
      {
       "output_type": "pyout",
       "prompt_number": 295,
       "text": [
        "True"
       ]
      }
     ],
     "prompt_number": 295
    },
    {
     "cell_type": "code",
     "collapsed": false,
     "input": [
      "import pandas.io.data as web\n",
      "\n",
      "all_data = {}\n",
      "for ticker in ['AAPL', 'IBM', \"MSFT\", 'GOOG']:\n",
      "    all_data[ticker] = web.get_data_yahoo(ticker, '1/1/2000', '1/1/2010')\n",
      "\n",
      "price = DataFrame({tic: data['Adj Close'] \n",
      "                for tic, data in all_data.iteritems()})\n",
      "volume = DataFrame({tic: data['Volume'] \n",
      "                for tic, data in all_data.iteritems()})\n",
      "\n"
     ],
     "language": "python",
     "metadata": {},
     "outputs": [
      {
       "output_type": "pyout",
       "prompt_number": 63,
       "text": [
        "{'AAPL': <class 'pandas.core.frame.DataFrame'>\n",
        "DatetimeIndex: 2515 entries, 2000-01-03 00:00:00 to 2009-12-31 00:00:00\n",
        "Data columns:\n",
        "Open         2515  non-null values\n",
        "High         2515  non-null values\n",
        "Low          2515  non-null values\n",
        "Close        2515  non-null values\n",
        "Volume       2515  non-null values\n",
        "Adj Close    2515  non-null values\n",
        "dtypes: float64(5), int64(1),\n",
        " 'GOOG': <class 'pandas.core.frame.DataFrame'>\n",
        "DatetimeIndex: 1353 entries, 2004-08-19 00:00:00 to 2009-12-31 00:00:00\n",
        "Data columns:\n",
        "Open         1353  non-null values\n",
        "High         1353  non-null values\n",
        "Low          1353  non-null values\n",
        "Close        1353  non-null values\n",
        "Volume       1353  non-null values\n",
        "Adj Close    1353  non-null values\n",
        "dtypes: float64(5), int64(1),\n",
        " 'IBM': <class 'pandas.core.frame.DataFrame'>\n",
        "DatetimeIndex: 2515 entries, 2000-01-03 00:00:00 to 2009-12-31 00:00:00\n",
        "Data columns:\n",
        "Open         2515  non-null values\n",
        "High         2515  non-null values\n",
        "Low          2515  non-null values\n",
        "Close        2515  non-null values\n",
        "Volume       2515  non-null values\n",
        "Adj Close    2515  non-null values\n",
        "dtypes: float64(5), int64(1),\n",
        " 'MSFT': <class 'pandas.core.frame.DataFrame'>\n",
        "DatetimeIndex: 2515 entries, 2000-01-03 00:00:00 to 2009-12-31 00:00:00\n",
        "Data columns:\n",
        "Open         2515  non-null values\n",
        "High         2515  non-null values\n",
        "Low          2515  non-null values\n",
        "Close        2515  non-null values\n",
        "Volume       2515  non-null values\n",
        "Adj Close    2515  non-null values\n",
        "dtypes: float64(5), int64(1)}"
       ]
      }
     ],
     "prompt_number": 63
    },
    {
     "cell_type": "code",
     "collapsed": false,
     "input": [
      "for key, data in all_data.items():\n",
      "    print key\n",
      "    print data.head()"
     ],
     "language": "python",
     "metadata": {},
     "outputs": [
      {
       "output_type": "stream",
       "stream": "stdout",
       "text": [
        "GOOG\n",
        "              Open    High     Low   Close    Volume  Adj Close\n",
        "Date                                                           \n",
        "2004-08-19  100.00  104.06   95.96  100.34  22351900     100.34\n",
        "2004-08-20  101.01  109.08  100.50  108.31  11428600     108.31\n",
        "2004-08-23  110.75  113.48  109.05  109.40   9137200     109.40\n",
        "2004-08-24  111.24  111.60  103.57  104.87   7631300     104.87\n",
        "2004-08-25  104.96  108.00  103.88  106.00   4598900     106.00\n",
        "AAPL\n",
        "              Open    High     Low   Close    Volume  Adj Close\n",
        "Date                                                           \n",
        "2000-01-03  104.87  112.50  101.69  111.94  19144400      27.40\n",
        "2000-01-04  108.25  110.62  101.19  102.50  18310000      25.09\n",
        "2000-01-05  103.75  110.56  103.00  104.00  27818000      25.45\n",
        "2000-01-06  106.12  107.00   95.00   95.00  27443200      23.25\n",
        "2000-01-07   96.50  101.00   95.50   99.50  16463200      24.35\n",
        "IBM\n",
        "              Open    High     Low   Close    Volume  Adj Close\n",
        "Date                                                           \n",
        "2000-01-03  112.44  116.00  111.87  116.00  10347700      98.14\n",
        "2000-01-04  114.00  114.50  110.87  112.06   8227800      94.80\n",
        "2000-01-05  112.94  119.75  112.12  116.00  12733200      98.14\n",
        "2000-01-06  118.00  118.94  113.50  114.00   7971900      96.44\n",
        "2000-01-07  117.25  117.94  110.62  113.50  11856700      96.02\n",
        "MSFT\n",
        "              Open    High     Low   Close    Volume  Adj Close\n",
        "Date                                                           \n",
        "2000-01-03  117.37  118.62  112.00  116.56  53228400      43.54\n",
        "2000-01-04  113.56  117.12  112.25  112.62  54119000      42.07\n",
        "2000-01-05  111.12  116.37  109.37  113.81  64059600      42.51\n",
        "2000-01-06  112.19  113.87  108.37  110.00  54976600      41.09\n",
        "2000-01-07  108.62  112.25  107.31  111.44  62013600      41.63"
       ]
      },
      {
       "output_type": "stream",
       "stream": "stdout",
       "text": [
        "\n"
       ]
      }
     ],
     "prompt_number": 70
    },
    {
     "cell_type": "code",
     "collapsed": false,
     "input": [
      "returns = price.pct_change()\n",
      "print returns.tail(), '\\n'\n",
      "\n",
      "print returns.AAPL.corr(returns.AAPL)\n",
      "print returns.corr(),'\\n'\n",
      "print returns.corrwith(returns.AAPL),'\\n' #corrwith calculates corr with series/DF\n",
      "print returns.corrwith(volume) #calculates corr of matching cols\n"
     ],
     "language": "python",
     "metadata": {},
     "outputs": [
      {
       "output_type": "stream",
       "stream": "stdout",
       "text": [
        "                AAPL      GOOG       IBM      MSFT\n",
        "Date                                              \n",
        "2009-12-24  0.034319  0.011117  0.004416  0.002477\n",
        "2009-12-28  0.012314  0.007098  0.013273  0.005648\n",
        "2009-12-29 -0.011875 -0.005571 -0.003455  0.007020\n",
        "2009-12-30  0.012164  0.005376  0.005483 -0.013594\n",
        "2009-12-31 -0.004296 -0.004416 -0.012591 -0.015548 \n",
        "\n",
        "1.0\n",
        "          AAPL      GOOG       IBM      MSFT\n",
        "AAPL  1.000000  0.470698  0.410032  0.424111\n",
        "GOOG  0.470698  1.000000  0.390619  0.443810\n",
        "IBM   0.410032  0.390619  1.000000  0.496076\n",
        "MSFT  0.424111  0.443810  0.496076  1.000000 \n",
        "\n",
        "AAPL    1.000000\n",
        "GOOG    0.470698\n",
        "IBM     0.410032\n",
        "MSFT    0.424111 \n",
        "\n",
        "AAPL   -0.057567\n",
        "GOOG    0.062644\n",
        "IBM    -0.007834\n",
        "MSFT   -0.014391\n"
       ]
      }
     ],
     "prompt_number": 335
    },
    {
     "cell_type": "code",
     "collapsed": false,
     "input": [
      "data = Series(np.random.randn(10),\n",
      "              index=[['a','a','a','b','b','b','c','c','d','d'],\n",
      "                     [1,2,3,1,2,3,1,2,2,3]])\n",
      "\n",
      "print data.index, '\\n'"
     ],
     "language": "python",
     "metadata": {},
     "outputs": [
      {
       "output_type": "stream",
       "stream": "stdout",
       "text": [
        "MultiIndex\n",
        "[(a, 1), (a, 2), (a, 3), (b, 1), (b, 2), (b, 3), (c, 1), (c, 2), (d, 2), (d, 3)] \n",
        "\n"
       ]
      }
     ],
     "prompt_number": 5
    },
    {
     "cell_type": "code",
     "collapsed": false,
     "input": [
      "print data['b'], '\\n' #Partial selecting \n",
      "print data['b':'c'], '\\n'\n",
      "print data.ix[['b', 'c']], '\\n'\n",
      "print data[:, 2] #access from inner level"
     ],
     "language": "python",
     "metadata": {},
     "outputs": [
      {
       "output_type": "stream",
       "stream": "stdout",
       "text": [
        "1   -0.636645\n",
        "2   -0.343115\n",
        "3    1.690061 \n",
        "\n",
        "b  1   -0.636645\n",
        "   2   -0.343115\n",
        "   3    1.690061\n",
        "c  1   -0.853143\n",
        "   2   -0.617865 \n",
        "\n",
        "b  1   -0.636645\n",
        "   2   -0.343115\n",
        "   3    1.690061\n",
        "c  1   -0.853143\n",
        "   2   -0.617865"
       ]
      },
      {
       "output_type": "stream",
       "stream": "stdout",
       "text": [
        " \n",
        "\n",
        "a    1.163477\n",
        "b   -0.343115\n",
        "c   -0.617865\n",
        "d   -1.534778\n"
       ]
      }
     ],
     "prompt_number": 13
    },
    {
     "cell_type": "code",
     "collapsed": false,
     "input": [
      "print data.unstack(), '\\n'\n",
      "print data.unstack().stack(), '\\n'"
     ],
     "language": "python",
     "metadata": {},
     "outputs": [
      {
       "output_type": "stream",
       "stream": "stdout",
       "text": [
        "          1         2         3\n",
        "a  0.255821  1.163477  0.190768\n",
        "b -0.636645 -0.343115  1.690061\n",
        "c -0.853143 -0.617865       NaN\n",
        "d       NaN -1.534778  1.531861 \n",
        "\n",
        "a  1    0.255821\n",
        "   2    1.163477\n",
        "   3    0.190768\n",
        "b  1   -0.636645\n",
        "   2   -0.343115\n",
        "   3    1.690061\n",
        "c  1   -0.853143\n",
        "   2   -0.617865\n",
        "d  2   -1.534778\n",
        "   3    1.531861 \n",
        "\n"
       ]
      }
     ],
     "prompt_number": 15
    },
    {
     "cell_type": "code",
     "collapsed": false,
     "input": [
      "frame = DataFrame(np.arange(12).reshape(4,3),\n",
      "                  index = [['a','a','b','b'],[1,2,1,2]], \n",
      "                  columns=[['Ohio', 'Ohio', 'Colorado'], \n",
      "                           ['Green', 'Red', 'Green']])\n",
      "print frame, '\\n'\n",
      "frame.index.names = ['key1', 'key2']\n",
      "frame.columns.names = ['state', 'color']\n",
      "print frame, '\\n'\n",
      "print frame['Ohio'], '\\n'\n",
      "print frame.ix['a'], '\\n'\n",
      "\n",
      "MultiIndex.from_arrays([['Ohio', 'Ohio', 'Colorado'], \n",
      "                       ['Green', 'Red', 'Green']], \n",
      "                       names=['state', 'color'])"
     ],
     "language": "python",
     "metadata": {},
     "outputs": [
      {
       "ename": "NameError",
       "evalue": "name 'MultiIndex' is not defined",
       "output_type": "pyerr",
       "traceback": [
        "\u001b[1;31m---------------------------------------------------------------------------\u001b[0m\n\u001b[1;31mNameError\u001b[0m                                 Traceback (most recent call last)",
        "\u001b[1;32m<ipython-input-37-b627df400d33>\u001b[0m in \u001b[0;36m<module>\u001b[1;34m()\u001b[0m\n\u001b[0;32m     10\u001b[0m \u001b[1;32mprint\u001b[0m \u001b[0mframe\u001b[0m\u001b[1;33m.\u001b[0m\u001b[0mix\u001b[0m\u001b[1;33m[\u001b[0m\u001b[1;34m'a'\u001b[0m\u001b[1;33m]\u001b[0m\u001b[1;33m,\u001b[0m \u001b[1;34m'\\n'\u001b[0m\u001b[1;33m\u001b[0m\u001b[0m\n\u001b[0;32m     11\u001b[0m \u001b[1;33m\u001b[0m\u001b[0m\n\u001b[1;32m---> 12\u001b[1;33m MultiIndex.from_arrays([['Ohio', 'Ohio', 'Colorado'], \n\u001b[0m\u001b[0;32m     13\u001b[0m                        ['Green', 'Red', 'Green']], \n\u001b[0;32m     14\u001b[0m                        names=['state', 'color'])\n",
        "\u001b[1;31mNameError\u001b[0m: name 'MultiIndex' is not defined"
       ]
      },
      {
       "output_type": "stream",
       "stream": "stdout",
       "text": [
        "      Ohio       Colorado\n",
        "     Green  Red     Green\n",
        "a 1      0    1         2\n",
        "  2      3    4         5\n",
        "b 1      6    7         8\n",
        "  2      9   10        11 \n",
        "\n",
        "state       Ohio       Colorado\n",
        "color      Green  Red     Green\n",
        "key1 key2                      \n",
        "a    1         0    1         2\n",
        "     2         3    4         5\n",
        "b    1         6    7         8\n",
        "     2         9   10        11 \n",
        "\n",
        "color      Green  Red\n",
        "key1 key2            \n",
        "a    1         0    1\n",
        "     2         3    4\n",
        "b    1         6    7\n",
        "     2         9   10 \n",
        "\n",
        "state   Ohio       Colorado\n",
        "color  Green  Red     Green\n",
        "key2                       \n",
        "1          0    1         2\n",
        "2          3    4         5 \n",
        "\n"
       ]
      }
     ],
     "prompt_number": 37
    },
    {
     "cell_type": "code",
     "collapsed": false,
     "input": [
      "print frame, '\\n'\n",
      "print frame.swaplevel('key1', 'key2'), '\\n'\n",
      "\n",
      "print frame.sortlevel(0)\n",
      "print frame.swaplevel(0,1).sortlevel(0)\n"
     ],
     "language": "python",
     "metadata": {},
     "outputs": [
      {
       "output_type": "stream",
       "stream": "stdout",
       "text": [
        "state       Ohio       Colorado\n",
        "color      Green  Red     Green\n",
        "key1 key2                      \n",
        "a    1         0    1         2\n",
        "     2         3    4         5\n",
        "b    1         6    7         8\n",
        "     2         9   10        11 \n",
        "\n",
        "state       Ohio       Colorado\n",
        "color      Green  Red     Green\n",
        "key2 key1                      \n",
        "1    a         0    1         2\n",
        "2    a         3    4         5\n",
        "1    b         6    7         8\n",
        "2    b         9   10        11 \n",
        "\n",
        "state       Ohio       Colorado\n",
        "color      Green  Red     Green\n",
        "key1 key2                      \n",
        "a    1         0    1         2\n",
        "     2         3    4         5\n",
        "b    1         6    7         8\n",
        "     2         9   10        11\n",
        "state       Ohio       Colorado\n",
        "color      Green  Red     Green\n",
        "key2 key1                      \n",
        "1    a         0    1         2\n",
        "     b         6    7         8\n",
        "2    a         3    4         5\n",
        "     b         9   10        11\n"
       ]
      }
     ],
     "prompt_number": 47
    }
   ],
   "metadata": {}
  }
 ]
}