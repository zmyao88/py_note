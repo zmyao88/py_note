{
 "metadata": {
  "name": "ch04"
 },
 "nbformat": 3,
 "nbformat_minor": 0,
 "worksheets": [
  {
   "cells": [
    {
     "cell_type": "code",
     "collapsed": false,
     "input": [
      "import numpy as np"
     ],
     "language": "python",
     "metadata": {},
     "outputs": [],
     "prompt_number": 2
    },
    {
     "cell_type": "code",
     "collapsed": false,
     "input": [
      "data = np.random.randn(3, 2)\n",
      "data\n"
     ],
     "language": "python",
     "metadata": {},
     "outputs": [
      {
       "output_type": "pyout",
       "prompt_number": 3,
       "text": [
        "array([[-0.82197243, -0.9105408 ],\n",
        "       [-0.7296716 , -1.99678754],\n",
        "       [-0.68047603, -0.54534099]])"
       ]
      }
     ],
     "prompt_number": 3
    },
    {
     "cell_type": "code",
     "collapsed": false,
     "input": [
      "print data * 10\n",
      "print data + data\n",
      "print data.shape\n",
      "print data.dtype\n",
      "data.astype(int)"
     ],
     "language": "python",
     "metadata": {},
     "outputs": [
      {
       "output_type": "stream",
       "stream": "stdout",
       "text": [
        "[[ -8.21972434  -9.10540799]\n",
        " [ -7.29671598 -19.96787537]\n",
        " [ -6.80476032  -5.45340988]]\n",
        "[[-1.64394487 -1.8210816 ]\n",
        " [-1.4593432  -3.99357507]\n",
        " [-1.36095206 -1.09068198]]\n",
        "(3, 2)\n",
        "float64\n"
       ]
      },
      {
       "output_type": "pyout",
       "prompt_number": 10,
       "text": [
        "array([[ 0,  0],\n",
        "       [ 0, -1],\n",
        "       [ 0,  0]])"
       ]
      }
     ],
     "prompt_number": 10
    },
    {
     "cell_type": "code",
     "collapsed": false,
     "input": [
      "data1 = [6, 7.5, 8, 0, 1. ]\n",
      "print data1\n",
      "arr1 = np.array(data1)\n",
      "arr1"
     ],
     "language": "python",
     "metadata": {},
     "outputs": [
      {
       "output_type": "stream",
       "stream": "stdout",
       "text": [
        "[6, 7.5, 8, 0, 1.0]\n"
       ]
      },
      {
       "output_type": "pyout",
       "prompt_number": 8,
       "text": [
        "array([ 6. ,  7.5,  8. ,  0. ,  1. ])"
       ]
      }
     ],
     "prompt_number": 8
    },
    {
     "cell_type": "code",
     "collapsed": false,
     "input": [
      "data2 = [[1, 2, 3, 4], [5, 6, 7, 8]]\n",
      "arr2 = np.array(data2)\n",
      "arr2\n",
      "arr2.ndim\n",
      "arr2.shape"
     ],
     "language": "python",
     "metadata": {},
     "outputs": [
      {
       "output_type": "pyout",
       "prompt_number": 9,
       "text": [
        "(2, 4)"
       ]
      }
     ],
     "prompt_number": 9
    },
    {
     "cell_type": "code",
     "collapsed": false,
     "input": [
      "arr1.dtype\n",
      "arr2.dtype"
     ],
     "language": "python",
     "metadata": {},
     "outputs": [
      {
       "output_type": "pyout",
       "prompt_number": 10,
       "text": [
        "dtype('int32')"
       ]
      }
     ],
     "prompt_number": 10
    },
    {
     "cell_type": "code",
     "collapsed": false,
     "input": [
      "print np.zeros(10), '\\n'\n",
      "print np.ones((2,3)), '\\n'\n",
      "print np.zeros([2,3]), '\\n'\n",
      "print np.empty((2,3,2)), '\\n'"
     ],
     "language": "python",
     "metadata": {},
     "outputs": [
      {
       "output_type": "stream",
       "stream": "stdout",
       "text": [
        "[ 0.  0.  0.  0.  0.  0.  0.  0.  0.  0.] \n",
        "\n",
        "[[ 1.  1.  1.]\n",
        " [ 1.  1.  1.]] \n",
        "\n",
        "[[ 0.  0.  0.]\n",
        " [ 0.  0.  0.]] \n",
        "\n",
        "[[[  1.29773132e-264   0.00000000e+000]\n",
        "  [  0.00000000e+000   0.00000000e+000]\n",
        "  [  0.00000000e+000   0.00000000e+000]]\n",
        "\n",
        " [[  0.00000000e+000   0.00000000e+000]\n",
        "  [  0.00000000e+000   0.00000000e+000]\n",
        "  [  0.00000000e+000   3.60739284e-313]]] \n",
        "\n"
       ]
      }
     ],
     "prompt_number": 12
    },
    {
     "cell_type": "code",
     "collapsed": false,
     "input": [
      "zeros_like(arr2)"
     ],
     "language": "python",
     "metadata": {},
     "outputs": [
      {
       "output_type": "pyout",
       "prompt_number": 13,
       "text": [
        "array([[0, 0, 0, 0],\n",
        "       [0, 0, 0, 0]])"
       ]
      }
     ],
     "prompt_number": 13
    },
    {
     "cell_type": "code",
     "collapsed": false,
     "input": [
      "arr = np.array([1,2,3,4,5])\n",
      "arr.dtype\n",
      "\n",
      "float_arr = arr.astype(np.float64)\n",
      "float_arr.dtype"
     ],
     "language": "python",
     "metadata": {},
     "outputs": [
      {
       "output_type": "pyout",
       "prompt_number": 23,
       "text": [
        "dtype('float64')"
       ]
      }
     ],
     "prompt_number": 23
    },
    {
     "cell_type": "code",
     "collapsed": false,
     "input": [
      "arr = np.array([3.7, -1.2, -2.6, 0.5, 12.9, 10.1])\n",
      "arr\n",
      "\n",
      "arr.astype(np.int32)"
     ],
     "language": "python",
     "metadata": {},
     "outputs": [
      {
       "output_type": "pyout",
       "prompt_number": 37,
       "text": [
        "array([ 3, -1, -2,  0, 12, 10])"
       ]
      }
     ],
     "prompt_number": 37
    },
    {
     "cell_type": "code",
     "collapsed": false,
     "input": [
      "numeric_strings = np.array(['1.25', '-9.6', '42'], dtype=np.string_)\n",
      "print numeric_strings.astype(float)\n",
      "\n",
      "print numeric_strings.astype(float).astype(int)\n",
      "\n",
      "print numeric_strings.astype(int) # cnoverting string and int doesn't work"
     ],
     "language": "python",
     "metadata": {},
     "outputs": [
      {
       "output_type": "stream",
       "stream": "stdout",
       "text": [
        "[  1.25  -9.6   42.  ]\n"
       ]
      },
      {
       "output_type": "pyout",
       "prompt_number": 17,
       "text": [
        "array([ 1, -9, 42])"
       ]
      }
     ],
     "prompt_number": 17
    },
    {
     "cell_type": "code",
     "collapsed": false,
     "input": [
      "int_array = np.arange(10)\n",
      "print int_array, '\\n'\n",
      "calibers = np.array([.22, .270, .357, .44, .50], dtype=np.float64)\n",
      "\n",
      "int_array.astype(calibers.dtype)\n"
     ],
     "language": "python",
     "metadata": {},
     "outputs": [
      {
       "output_type": "stream",
       "stream": "stdout",
       "text": [
        "[0 1 2 3 4 5 6 7 8 9] \n",
        "\n"
       ]
      },
      {
       "output_type": "pyout",
       "prompt_number": 19,
       "text": [
        "array([ 0.,  1.,  2.,  3.,  4.,  5.,  6.,  7.,  8.,  9.])"
       ]
      }
     ],
     "prompt_number": 19
    },
    {
     "cell_type": "code",
     "collapsed": false,
     "input": [
      "empty_unit32 = np.empty(8, dtype='u4')\n",
      "empty_unit32"
     ],
     "language": "python",
     "metadata": {},
     "outputs": [
      {
       "output_type": "pyout",
       "prompt_number": 12,
       "text": [
        "array([165654512, 157952864, 152768928, 151060628, 156498272, 169594440,\n",
        "       170153808, 170137880], dtype=uint32)"
       ]
      }
     ],
     "prompt_number": 12
    },
    {
     "cell_type": "code",
     "collapsed": false,
     "input": [
      "arr = np.array([[1., 2., 3.], [4., 5., 6.]])\n",
      "\n",
      "print arr, '\\n'\n",
      "\n",
      "print arr * arr, '\\n'\n",
      "print arr - arr, '\\n'\n",
      "print 1 / arr, '\\n'"
     ],
     "language": "python",
     "metadata": {},
     "outputs": [
      {
       "output_type": "stream",
       "stream": "stdout",
       "text": [
        "[[ 1.  2.  3.]\n",
        " [ 4.  5.  6.]] \n",
        "\n",
        "[[  1.   4.   9.]\n",
        " [ 16.  25.  36.]] \n",
        "\n",
        "[[ 0.  0.  0.]\n",
        " [ 0.  0.  0.]] \n",
        "\n",
        "[[ 1.          0.5         0.33333333]\n",
        " [ 0.25        0.2         0.16666667]] \n",
        "\n"
       ]
      }
     ],
     "prompt_number": 21
    },
    {
     "cell_type": "code",
     "collapsed": false,
     "input": [
      "arr = np.arange(10)\n",
      "arr\n",
      "arr[5]\n",
      "arr[5:8]\n",
      "arr[5:8] = 12 \n",
      "arr\n"
     ],
     "language": "python",
     "metadata": {},
     "outputs": [
      {
       "output_type": "pyout",
       "prompt_number": 14,
       "text": [
        "array([ 0,  1,  2,  3,  4, 12, 12, 12,  8,  9])"
       ]
      }
     ],
     "prompt_number": 14
    },
    {
     "cell_type": "code",
     "collapsed": false,
     "input": [
      "ls = range(10)\n",
      "ls[5:8] = 12 \n"
     ],
     "language": "python",
     "metadata": {},
     "outputs": [
      {
       "ename": "TypeError",
       "evalue": "can only assign an iterable",
       "output_type": "pyerr",
       "traceback": [
        "\u001b[1;31m---------------------------------------------------------------------------\u001b[0m\n\u001b[1;31mTypeError\u001b[0m                                 Traceback (most recent call last)",
        "\u001b[1;32m<ipython-input-24-a92865745f3d>\u001b[0m in \u001b[0;36m<module>\u001b[1;34m()\u001b[0m\n\u001b[0;32m      1\u001b[0m \u001b[0mls\u001b[0m \u001b[1;33m=\u001b[0m \u001b[0mrange\u001b[0m\u001b[1;33m(\u001b[0m\u001b[1;36m10\u001b[0m\u001b[1;33m)\u001b[0m\u001b[1;33m\u001b[0m\u001b[0m\n\u001b[1;32m----> 2\u001b[1;33m \u001b[0mls\u001b[0m\u001b[1;33m[\u001b[0m\u001b[1;36m5\u001b[0m\u001b[1;33m:\u001b[0m\u001b[1;36m8\u001b[0m\u001b[1;33m]\u001b[0m \u001b[1;33m=\u001b[0m \u001b[1;36m12\u001b[0m\u001b[1;33m\u001b[0m\u001b[0m\n\u001b[0m",
        "\u001b[1;31mTypeError\u001b[0m: can only assign an iterable"
       ]
      }
     ],
     "prompt_number": 24
    },
    {
     "cell_type": "code",
     "collapsed": false,
     "input": [
      "arr_slice = arr[5:8]\n",
      "arr_slice[1] = 12345\n",
      "print arr\n",
      "\n",
      "arr_slice[:] = 64\n",
      "arr"
     ],
     "language": "python",
     "metadata": {},
     "outputs": [
      {
       "output_type": "stream",
       "stream": "stdout",
       "text": [
        "[    0     1     2     3     4    12 12345    12     8     9]\n"
       ]
      },
      {
       "output_type": "pyout",
       "prompt_number": 16,
       "text": [
        "array([ 0,  1,  2,  3,  4, 64, 64, 64,  8,  9])"
       ]
      }
     ],
     "prompt_number": 16
    },
    {
     "cell_type": "code",
     "collapsed": false,
     "input": [
      "arr2d = np.array([[1,2,3], [4,5,6], [7,8,9]])\n",
      "print arr2d, '\\n'\n",
      "print arr2d[2], '\\n'\n",
      "print arr2d[0][2], '\\n'\n",
      "print arr2d[0,2], '\\n'"
     ],
     "language": "python",
     "metadata": {},
     "outputs": [
      {
       "output_type": "stream",
       "stream": "stdout",
       "text": [
        "[[1 2 3]\n",
        " [4 5 6]\n",
        " [7 8 9]] \n",
        "\n",
        "[7 8 9] \n",
        "\n",
        "3 \n",
        "\n",
        "3 \n",
        "\n"
       ]
      }
     ],
     "prompt_number": 26
    },
    {
     "cell_type": "code",
     "collapsed": false,
     "input": [
      "arr3d = np.array([[[1,2,3], [4,5,6]], [[7,8,9], [10,11,12]]])\n",
      "arr3d\n",
      "arr3d[0]\n"
     ],
     "language": "python",
     "metadata": {},
     "outputs": [
      {
       "output_type": "pyout",
       "prompt_number": 28,
       "text": [
        "array([[1, 2, 3],\n",
        "       [4, 5, 6]])"
       ]
      }
     ],
     "prompt_number": 28
    },
    {
     "cell_type": "code",
     "collapsed": false,
     "input": [
      "old_values = arr3d[0].copy()\n",
      "arr3d[0] = 42\n",
      "print arr3d, '\\n'\n",
      "\n",
      "arr3d[0] = old_values\n",
      "print arr3d\n",
      "\n",
      "arr3d[1,0]"
     ],
     "language": "python",
     "metadata": {},
     "outputs": [
      {
       "output_type": "stream",
       "stream": "stdout",
       "text": [
        "[[[42 42 42]\n",
        "  [42 42 42]]\n",
        "\n",
        " [[ 7  8  9]\n",
        "  [10 11 12]]] \n",
        "\n",
        "[[[ 1  2  3]\n",
        "  [ 4  5  6]]\n",
        "\n",
        " [[ 7  8  9]\n",
        "  [10 11 12]]]\n"
       ]
      },
      {
       "output_type": "pyout",
       "prompt_number": 31,
       "text": [
        "array([7, 8, 9])"
       ]
      }
     ],
     "prompt_number": 31
    },
    {
     "cell_type": "code",
     "collapsed": false,
     "input": [
      "arr[1:6]"
     ],
     "language": "python",
     "metadata": {},
     "outputs": [
      {
       "output_type": "pyout",
       "prompt_number": 22,
       "text": [
        "array([ 1,  2,  3,  4, 64])"
       ]
      }
     ],
     "prompt_number": 22
    },
    {
     "cell_type": "code",
     "collapsed": false,
     "input": [
      "print arr2d, '\\n'\n",
      "print arr2d[:2]\n",
      "arr2d[:2, 1:]"
     ],
     "language": "python",
     "metadata": {},
     "outputs": [
      {
       "output_type": "stream",
       "stream": "stdout",
       "text": [
        "[[1 2 3]\n",
        " [4 5 6]\n",
        " [7 8 9]] \n",
        "\n",
        "[[1 2 3]\n",
        " [4 5 6]]\n"
       ]
      },
      {
       "output_type": "pyout",
       "prompt_number": 33,
       "text": [
        "array([[2, 3],\n",
        "       [5, 6]])"
       ]
      }
     ],
     "prompt_number": 33
    },
    {
     "cell_type": "code",
     "collapsed": false,
     "input": [
      "names = np.array(['Bob', 'Joe', 'Will', 'Bob', 'Will', 'Joe', 'Joe'])\n",
      "data = randn(7,4)\n",
      "print names\n",
      "data"
     ],
     "language": "python",
     "metadata": {},
     "outputs": [
      {
       "output_type": "stream",
       "stream": "stdout",
       "text": [
        "['Bob' 'Joe' 'Will' 'Bob' 'Will' 'Joe' 'Joe']\n"
       ]
      },
      {
       "output_type": "pyout",
       "prompt_number": 34,
       "text": [
        "array([[-0.67743278,  0.02212423, -0.9398828 ,  1.16453335],\n",
        "       [-1.53674554, -0.18231011, -0.13998645,  0.60005669],\n",
        "       [-0.31666857, -0.01359832, -1.15026902,  0.87177738],\n",
        "       [-0.25257639,  1.04061146, -1.04188924, -1.07065882],\n",
        "       [-0.34636061,  0.31968392, -0.03856064, -1.12310432],\n",
        "       [ 0.17525425,  0.58561776, -0.286043  , -0.37103909],\n",
        "       [-0.26511175,  1.62999673, -2.94875082,  1.01817119]])"
       ]
      }
     ],
     "prompt_number": 34
    },
    {
     "cell_type": "code",
     "collapsed": false,
     "input": [
      "print names == 'Bob', '\\n'\n",
      "print data[names == 'Bob']\n",
      "data[names == 'Bob', 2:]"
     ],
     "language": "python",
     "metadata": {},
     "outputs": [
      {
       "output_type": "stream",
       "stream": "stdout",
       "text": [
        "[ True False False  True False False False] \n",
        "\n",
        "[[-0.67743278  0.02212423 -0.9398828   1.16453335]\n",
        " [-0.25257639  1.04061146 -1.04188924 -1.07065882]]\n"
       ]
      },
      {
       "output_type": "pyout",
       "prompt_number": 37,
       "text": [
        "array([[-0.9398828 ,  1.16453335],\n",
        "       [-1.04188924, -1.07065882]])"
       ]
      }
     ],
     "prompt_number": 37
    },
    {
     "cell_type": "code",
     "collapsed": false,
     "input": [
      "names != 'Bob'\n",
      "data[-(names == 'Bob')]"
     ],
     "language": "python",
     "metadata": {},
     "outputs": [
      {
       "output_type": "pyout",
       "prompt_number": 38,
       "text": [
        "array([[ 0.65519708,  1.67791604,  0.56979956, -0.92540778],\n",
        "       [-0.45976774,  0.58550593, -0.62725071, -0.41683945],\n",
        "       [-1.04322582,  0.86151548,  1.1897893 , -0.8799055 ],\n",
        "       [ 0.44224105, -0.27557111,  0.54069601,  1.17145837],\n",
        "       [-0.98846338,  0.34066244,  0.79161068, -0.10264152]])"
       ]
      }
     ],
     "prompt_number": 38
    },
    {
     "cell_type": "code",
     "collapsed": false,
     "input": [
      "print data < 0\n",
      "data[data < 0] = 0\n",
      "print data\n",
      "\n",
      "data[ names != 'Joe'] = 7\n",
      "data"
     ],
     "language": "python",
     "metadata": {},
     "outputs": [
      {
       "output_type": "stream",
       "stream": "stdout",
       "text": [
        "[[False False False False]\n",
        " [False False False False]\n",
        " [False False False False]\n",
        " [False False False False]\n",
        " [False False False False]\n",
        " [False False False False]\n",
        " [False False False False]]\n",
        "[[ 7.          7.          7.          7.        ]\n",
        " [ 0.          0.          0.          0.60005669]\n",
        " [ 7.          7.          7.          7.        ]\n",
        " [ 7.          7.          7.          7.        ]\n",
        " [ 7.          7.          7.          7.        ]\n",
        " [ 0.17525425  0.58561776  0.          0.        ]\n",
        " [ 0.          1.62999673  0.          1.01817119]]\n"
       ]
      },
      {
       "output_type": "pyout",
       "prompt_number": 43,
       "text": [
        "array([[ 7.        ,  7.        ,  7.        ,  7.        ],\n",
        "       [ 0.        ,  0.        ,  0.        ,  0.60005669],\n",
        "       [ 7.        ,  7.        ,  7.        ,  7.        ],\n",
        "       [ 7.        ,  7.        ,  7.        ,  7.        ],\n",
        "       [ 7.        ,  7.        ,  7.        ,  7.        ],\n",
        "       [ 0.17525425,  0.58561776,  0.        ,  0.        ],\n",
        "       [ 0.        ,  1.62999673,  0.        ,  1.01817119]])"
       ]
      }
     ],
     "prompt_number": 43
    },
    {
     "cell_type": "code",
     "collapsed": false,
     "input": [
      "arr = np.empty( (8,4) )\n",
      "print arr\n",
      "\n",
      "for i in range(8):\n",
      "    arr[i] = i\n",
      "print arr\n",
      "arr[[4,3,0,6]]\n",
      "arr[[-3,-5,-7]]"
     ],
     "language": "python",
     "metadata": {},
     "outputs": [
      {
       "output_type": "stream",
       "stream": "stdout",
       "text": [
        "[[ -4.25254868e-42   0.00000000e+00   0.00000000e+00   0.00000000e+00]\n",
        " [  0.00000000e+00   0.00000000e+00   0.00000000e+00   0.00000000e+00]\n",
        " [  0.00000000e+00   0.00000000e+00   0.00000000e+00   0.00000000e+00]\n",
        " [  0.00000000e+00   0.00000000e+00   0.00000000e+00   0.00000000e+00]\n",
        " [  0.00000000e+00   0.00000000e+00   0.00000000e+00   0.00000000e+00]\n",
        " [  0.00000000e+00   0.00000000e+00   0.00000000e+00   0.00000000e+00]\n",
        " [  0.00000000e+00   0.00000000e+00   0.00000000e+00   0.00000000e+00]\n",
        " [  0.00000000e+00   0.00000000e+00   0.00000000e+00   0.00000000e+00]]\n",
        "[[ 0.  0.  0.  0.]\n",
        " [ 1.  1.  1.  1.]\n",
        " [ 2.  2.  2.  2.]\n",
        " [ 3.  3.  3.  3.]\n",
        " [ 4.  4.  4.  4.]\n",
        " [ 5.  5.  5.  5.]\n",
        " [ 6.  6.  6.  6.]\n",
        " [ 7.  7.  7.  7.]]\n"
       ]
      },
      {
       "output_type": "pyout",
       "prompt_number": 46,
       "text": [
        "array([[ 5.,  5.,  5.,  5.],\n",
        "       [ 3.,  3.,  3.,  3.],\n",
        "       [ 1.,  1.,  1.,  1.]])"
       ]
      }
     ],
     "prompt_number": 46
    },
    {
     "cell_type": "code",
     "collapsed": false,
     "input": [
      "arr = np.arange(32).reshape(8,4)\n",
      "print arr\n",
      "\n",
      "arr[[ 1,5,7,2] , [0,3,1,2]]"
     ],
     "language": "python",
     "metadata": {},
     "outputs": [
      {
       "output_type": "stream",
       "stream": "stdout",
       "text": [
        "[[ 0  1  2  3]\n",
        " [ 4  5  6  7]\n",
        " [ 8  9 10 11]\n",
        " [12 13 14 15]\n",
        " [16 17 18 19]\n",
        " [20 21 22 23]\n",
        " [24 25 26 27]\n",
        " [28 29 30 31]]\n"
       ]
      },
      {
       "output_type": "pyout",
       "prompt_number": 52,
       "text": [
        "array([ 4, 23, 29, 10])"
       ]
      }
     ],
     "prompt_number": 52
    },
    {
     "cell_type": "code",
     "collapsed": false,
     "input": [
      "arr[[1,5,7,2]][:, [0,3,1,2]]"
     ],
     "language": "python",
     "metadata": {},
     "outputs": [
      {
       "output_type": "pyout",
       "prompt_number": 57,
       "text": [
        "array([[ 4,  7,  5,  6],\n",
        "       [20, 23, 21, 22],\n",
        "       [28, 31, 29, 30],\n",
        "       [ 8, 11,  9, 10]])"
       ]
      }
     ],
     "prompt_number": 57
    },
    {
     "cell_type": "code",
     "collapsed": false,
     "input": [
      "np.ix_([1,5,7,2], [0,3,1,2])\n",
      "arr[np.ix_([1,5,7,2], [0,3,1,2])]"
     ],
     "language": "python",
     "metadata": {},
     "outputs": [
      {
       "output_type": "pyout",
       "prompt_number": 59,
       "text": [
        "array([[ 4,  7,  5,  6],\n",
        "       [20, 23, 21, 22],\n",
        "       [28, 31, 29, 30],\n",
        "       [ 8, 11,  9, 10]])"
       ]
      }
     ],
     "prompt_number": 59
    },
    {
     "cell_type": "code",
     "collapsed": false,
     "input": [
      "arr = np.arange(15).reshape((3,5))\n",
      "print arr\n",
      "arr.T"
     ],
     "language": "python",
     "metadata": {},
     "outputs": [
      {
       "output_type": "stream",
       "stream": "stdout",
       "text": [
        "[[ 0  1  2  3  4]\n",
        " [ 5  6  7  8  9]\n",
        " [10 11 12 13 14]]\n"
       ]
      },
      {
       "output_type": "pyout",
       "prompt_number": 47,
       "text": [
        "array([[ 0,  5, 10],\n",
        "       [ 1,  6, 11],\n",
        "       [ 2,  7, 12],\n",
        "       [ 3,  8, 13],\n",
        "       [ 4,  9, 14]])"
       ]
      }
     ],
     "prompt_number": 47
    },
    {
     "cell_type": "code",
     "collapsed": false,
     "input": [
      "arr = np.random.randn(6,3)\n",
      "np.dot(arr.T, arr)"
     ],
     "language": "python",
     "metadata": {},
     "outputs": [
      {
       "output_type": "pyout",
       "prompt_number": 64,
       "text": [
        "array([[ 15.54336966,  -0.6094442 ,  -4.47629111],\n",
        "       [ -0.6094442 ,   4.40138378,  -2.03813432],\n",
        "       [ -4.47629111,  -2.03813432,   3.6640452 ]])"
       ]
      }
     ],
     "prompt_number": 64
    },
    {
     "cell_type": "code",
     "collapsed": false,
     "input": [
      "arr = np.arange(16).reshape((2,2,4))\n",
      "print arr \n",
      "print '\\n\\n'\n",
      "print arr.transpose((1, 0 ,2))\n",
      "print '\\n\\n'\n",
      "print arr.swapaxes(1,2)"
     ],
     "language": "python",
     "metadata": {},
     "outputs": [
      {
       "output_type": "stream",
       "stream": "stdout",
       "text": [
        "[[[ 0  1  2  3]\n",
        "  [ 4  5  6  7]]\n",
        "\n",
        " [[ 8  9 10 11]\n",
        "  [12 13 14 15]]]\n",
        "\n",
        "\n",
        "\n",
        "[[[ 0  1  2  3]\n",
        "  [ 8  9 10 11]]\n",
        "\n",
        " [[ 4  5  6  7]\n",
        "  [12 13 14 15]]]\n",
        "\n",
        "\n",
        "\n",
        "[[[ 0  4]\n",
        "  [ 1  5]\n",
        "  [ 2  6]\n",
        "  [ 3  7]]\n",
        "\n",
        " [[ 8 12]\n",
        "  [ 9 13]\n",
        "  [10 14]\n",
        "  [11 15]]]\n"
       ]
      }
     ],
     "prompt_number": 77
    },
    {
     "cell_type": "code",
     "collapsed": false,
     "input": [
      "arr = np.arange(10)\n",
      "\n",
      "%timeit np.sqrt(arr)\n"
     ],
     "language": "python",
     "metadata": {},
     "outputs": [
      {
       "output_type": "stream",
       "stream": "stdout",
       "text": [
        "100000 loops, best of 3: 2.25 us per loop\n"
       ]
      }
     ],
     "prompt_number": 84
    },
    {
     "cell_type": "code",
     "collapsed": false,
     "input": [
      "arr = randn(7) * 5\n",
      "print arr\n",
      "np.modf(arr)"
     ],
     "language": "python",
     "metadata": {},
     "outputs": [
      {
       "output_type": "stream",
       "stream": "stdout",
       "text": [
        "[ 1.99072171  0.23141691 -4.61724128 -2.89190415  0.22174024 -3.29054804\n",
        " -6.69373303]\n"
       ]
      },
      {
       "output_type": "pyout",
       "prompt_number": 49,
       "text": [
        "(array([ 0.99072171,  0.23141691, -0.61724128, -0.89190415,  0.22174024,\n",
        "       -0.29054804, -0.69373303]),\n",
        " array([ 1.,  0., -4., -2.,  0., -3., -6.]))"
       ]
      }
     ],
     "prompt_number": 49
    },
    {
     "cell_type": "code",
     "collapsed": false,
     "input": [
      "%timeit [sqrt(i) for i in arr]\n",
      "\n",
      "x = randn(8)\n",
      "y = randn(8)\n",
      "\n",
      "np.maximum(x, y) # elementiwise max\n"
     ],
     "language": "python",
     "metadata": {},
     "outputs": [
      {
       "output_type": "stream",
       "stream": "stdout",
       "text": [
        "10000 loops, best of 3: 32.3 us per loop\n"
       ]
      },
      {
       "output_type": "stream",
       "stream": "stderr",
       "text": [
        "-c:6: RuntimeWarning: invalid value encountered in sqrt\n"
       ]
      },
      {
       "output_type": "pyout",
       "prompt_number": 50,
       "text": [
        "array([ 0.62348102,  0.35010258,  0.83454519,  0.8215422 ,  0.57287927,\n",
        "        1.31865903, -0.70268571,  1.52479635])"
       ]
      }
     ],
     "prompt_number": 50
    },
    {
     "cell_type": "code",
     "collapsed": false,
     "input": [
      "arr = randn(7) * 5\n",
      "print arr\n",
      "\n",
      "np.modf(arr)"
     ],
     "language": "python",
     "metadata": {},
     "outputs": [
      {
       "output_type": "stream",
       "stream": "stdout",
       "text": [
        "[-5.36576984  5.58452453  2.35493644  6.51959505 -0.66210077  3.78809088\n",
        "  1.21338757]\n"
       ]
      },
      {
       "output_type": "pyout",
       "prompt_number": 96,
       "text": [
        "(array([-0.36576984,  0.58452453,  0.35493644,  0.51959505, -0.66210077,\n",
        "        0.78809088,  0.21338757]),\n",
        " array([-5.,  5.,  2.,  6., -0.,  3.,  1.]))"
       ]
      }
     ],
     "prompt_number": 96
    },
    {
     "cell_type": "code",
     "collapsed": false,
     "input": [
      "arr = np.arange(10)\n",
      "np.sqrt(arr)\n"
     ],
     "language": "python",
     "metadata": {},
     "outputs": [
      {
       "output_type": "pyout",
       "prompt_number": 2,
       "text": [
        "array([ 0.        ,  1.        ,  1.41421356,  1.73205081,  2.        ,\n",
        "        2.23606798,  2.44948974,  2.64575131,  2.82842712,  3.        ])"
       ]
      }
     ],
     "prompt_number": 2
    },
    {
     "cell_type": "code",
     "collapsed": false,
     "input": [
      "points = np.arange(-5, 5, 0.01)\n",
      "xs, ys = np.meshgrid(points, points )\n",
      "print xs\n",
      "print \n",
      "print ys\n"
     ],
     "language": "python",
     "metadata": {},
     "outputs": [
      {
       "output_type": "stream",
       "stream": "stdout",
       "text": [
        "[[-5.   -4.99 -4.98 ...,  4.97  4.98  4.99]\n",
        " [-5.   -4.99 -4.98 ...,  4.97  4.98  4.99]\n",
        " [-5.   -4.99 -4.98 ...,  4.97  4.98  4.99]\n",
        " ..., \n",
        " [-5.   -4.99 -4.98 ...,  4.97  4.98  4.99]\n",
        " [-5.   -4.99 -4.98 ...,  4.97  4.98  4.99]\n",
        " [-5.   -4.99 -4.98 ...,  4.97  4.98  4.99]]\n",
        "\n",
        "[[-5.   -5.   -5.   ..., -5.   -5.   -5.  ]\n",
        " [-4.99 -4.99 -4.99 ..., -4.99 -4.99 -4.99]\n",
        " [-4.98 -4.98 -4.98 ..., -4.98 -4.98 -4.98]\n",
        " ..., \n",
        " [ 4.97  4.97  4.97 ...,  4.97  4.97  4.97]\n",
        " [ 4.98  4.98  4.98 ...,  4.98  4.98  4.98]\n",
        " [ 4.99  4.99  4.99 ...,  4.99  4.99  4.99]]\n"
       ]
      },
      {
       "output_type": "pyout",
       "prompt_number": 17,
       "text": [
        "(1000, 1000)"
       ]
      }
     ],
     "prompt_number": 17
    },
    {
     "cell_type": "code",
     "collapsed": false,
     "input": [
      "import matplotlib.pyplot as plt \n",
      "\n",
      "z = np.sqrt(xs ** 2 + ys **2)\n",
      "\n",
      "z \n",
      "\n",
      "plt.imshow(z, cmap = plt.cm.gray)\n",
      "plt.colorbar()\n",
      "plt.title('Image plot of $\\sqrt{x^2 + y^2}$ for a grid of values')"
     ],
     "language": "python",
     "metadata": {},
     "outputs": [
      {
       "output_type": "pyout",
       "prompt_number": 20,
       "text": [
        "<matplotlib.text.Text at 0x9cdc64c>"
       ]
      },
      {
       "output_type": "display_data",
       "png": "[encoded data removed]"
      }
     ],
     "prompt_number": 20
    },
    {
     "cell_type": "code",
     "collapsed": false,
     "input": [
      "xarr = np.array([1.1, 1.2, 1.3, 1.4, 1.5])\n",
      "\n",
      "yarr = np.array([2.1, 2.2, 2.3, 2.4, 2.5])\n",
      "\n",
      "cond = np.array([True, False, True, True, False])\n",
      "\n",
      "print [(x if c else y) for x,y,c in zip(xarr, yarr, cond)]\n",
      "\n",
      "print np.where(cond, xarr, yarr)"
     ],
     "language": "python",
     "metadata": {},
     "outputs": [
      {
       "output_type": "stream",
       "stream": "stdout",
       "text": [
        "[1.1000000000000001, 2.2000000000000002, 1.3, 1.3999999999999999, 2.5]\n",
        "[ 1.1  2.2  1.3  1.4  2.5]\n"
       ]
      }
     ],
     "prompt_number": 33
    },
    {
     "cell_type": "code",
     "collapsed": false,
     "input": [
      "arr = randn(4, 4)\n",
      "np.where(arr > 0, 2, -2)\n",
      "\n",
      "np.where(arr > 0, 2, arr)\n"
     ],
     "language": "python",
     "metadata": {},
     "outputs": [
      {
       "output_type": "pyout",
       "prompt_number": 38,
       "text": [
        "array([[ 2.        ,  2.        , -1.78198957, -0.1521023 ],\n",
        "       [ 2.        , -0.10454075, -1.0806618 ,  2.        ],\n",
        "       [ 2.        ,  2.        , -1.78969488, -0.68431274],\n",
        "       [-0.38699102,  2.        ,  2.        ,  2.        ]])"
       ]
      }
     ],
     "prompt_number": 38
    },
    {
     "cell_type": "code",
     "collapsed": false,
     "input": [
      "arr = np.random.randn(5,4)\n",
      "print arr.mean()\n",
      "print np.mean(arr)\n",
      "\n",
      "print arr.sum(axis=1)\n",
      "arr.mean(axis = (0))"
     ],
     "language": "python",
     "metadata": {},
     "outputs": [
      {
       "output_type": "stream",
       "stream": "stdout",
       "text": [
        "0.256728187666\n",
        "0.256728187666\n",
        "[ 1.7340034   2.72562959  1.64809278 -0.04994381 -0.9232182 ]\n"
       ]
      },
      {
       "output_type": "pyout",
       "prompt_number": 52,
       "text": [
        "array([-0.14129674,  0.24396309,  0.85906925,  0.06517716])"
       ]
      }
     ],
     "prompt_number": 52
    },
    {
     "cell_type": "code",
     "collapsed": false,
     "input": [
      "arr = np.arange(9).reshape(3,3)\n",
      "print arr\n",
      "print arr.cumsum(0)\n",
      "print arr.cumprod(1)\n",
      "print argmax(arr, axis=0)\n"
     ],
     "language": "python",
     "metadata": {},
     "outputs": [
      {
       "output_type": "stream",
       "stream": "stdout",
       "text": [
        "[[0 1 2]\n",
        " [3 4 5]\n",
        " [6 7 8]]\n",
        "[[ 0  1  2]\n",
        " [ 3  5  7]\n",
        " [ 9 12 15]]\n",
        "[[  0   0   0]\n",
        " [  3  12  60]\n",
        " [  6  42 336]]\n",
        "[2 2 2]\n"
       ]
      },
      {
       "output_type": "pyout",
       "prompt_number": 55,
       "text": [
        "array([6, 7, 8])"
       ]
      }
     ],
     "prompt_number": 55
    },
    {
     "cell_type": "code",
     "collapsed": false,
     "input": [
      "bools = np.array([False, False, True, False])\n",
      "bools.any()"
     ],
     "language": "python",
     "metadata": {},
     "outputs": [
      {
       "output_type": "pyout",
       "prompt_number": 60,
       "text": [
        "True"
       ]
      }
     ],
     "prompt_number": 60
    },
    {
     "cell_type": "code",
     "collapsed": false,
     "input": [
      "arr = randn(8)\n",
      "print arr\n",
      "arr.sort()\n",
      "print arr\n",
      "\n"
     ],
     "language": "python",
     "metadata": {},
     "outputs": [
      {
       "output_type": "stream",
       "stream": "stdout",
       "text": [
        "[ 0.02846566  0.87389174 -0.14669877  0.5216553  -1.070222    0.25446152\n",
        "  0.98048798  0.89166406]\n",
        "[-1.070222   -0.14669877  0.02846566  0.25446152  0.5216553   0.87389174\n",
        "  0.89166406  0.98048798]\n"
       ]
      }
     ],
     "prompt_number": 56
    },
    {
     "cell_type": "code",
     "collapsed": false,
     "input": [
      "arr = randn(5,3)\n",
      "print arr\n",
      "print '\\n'\n",
      "\n",
      "arr.sort(1, )\n",
      "\n",
      "print arr"
     ],
     "language": "python",
     "metadata": {},
     "outputs": [
      {
       "output_type": "stream",
       "stream": "stdout",
       "text": [
        "[[-0.85838666 -0.7726451  -2.43018445]\n",
        " [-0.72306936 -1.45868746  1.04738004]\n",
        " [ 0.74933964  0.55798429 -0.42636905]\n",
        " [ 0.3813791  -1.18077184  0.97965268]\n",
        " [-1.2710709  -0.48660888 -0.04879148]]\n",
        "\n",
        "\n",
        "[[-2.43018445 -0.85838666 -0.7726451 ]\n",
        " [-1.45868746 -0.72306936  1.04738004]\n",
        " [-0.42636905  0.55798429  0.74933964]\n",
        " [-1.18077184  0.3813791   0.97965268]\n",
        " [-1.2710709  -0.48660888 -0.04879148]]\n"
       ]
      }
     ],
     "prompt_number": 58
    },
    {
     "cell_type": "code",
     "collapsed": false,
     "input": [
      "large_arr = randn(1000)\n",
      "large_arr.sort()\n",
      "\n",
      "large_arr[int(0.05 * len(large_arr))] "
     ],
     "language": "python",
     "metadata": {},
     "outputs": [
      {
       "output_type": "pyout",
       "prompt_number": 72,
       "text": [
        "-1.5899312004213693"
       ]
      }
     ],
     "prompt_number": 72
    },
    {
     "cell_type": "code",
     "collapsed": false,
     "input": [
      "names = np.array(['Bob', 'Joe', 'Will', 'Bob', 'Will', 'Joe', 'Joe'])\n",
      "np.unique(names)\n"
     ],
     "language": "python",
     "metadata": {},
     "outputs": [
      {
       "output_type": "pyout",
       "prompt_number": 76,
       "text": [
        "array(['Bob', 'Joe', 'Will'], \n",
        "      dtype='|S4')"
       ]
      }
     ],
     "prompt_number": 76
    },
    {
     "cell_type": "code",
     "collapsed": false,
     "input": [
      "values = np.array([6,0,0,3,2,5,6])\n",
      "np.in1d(values, [2,3,6])"
     ],
     "language": "python",
     "metadata": {},
     "outputs": [
      {
       "output_type": "pyout",
       "prompt_number": 79,
       "text": [
        "array([ True, False, False,  True,  True, False,  True], dtype=bool)"
       ]
      }
     ],
     "prompt_number": 79
    },
    {
     "cell_type": "code",
     "collapsed": false,
     "input": [
      "x = np.arange(8)\n",
      "y = np.arange(4,12)\n",
      "\n",
      "print intersect1d(x,y)\n",
      "print union1d(x,y)\n",
      "print setdiff1d(x,y)\n",
      "print setxor1d(x,y)"
     ],
     "language": "python",
     "metadata": {},
     "outputs": [
      {
       "output_type": "stream",
       "stream": "stdout",
       "text": [
        "[4 5 6 7]\n",
        "[ 0  1  2  3  4  5  6  7  8  9 10 11]\n",
        "[0 1 2 3]\n",
        "[ 0  1  2  3  8  9 10 11]\n"
       ]
      }
     ],
     "prompt_number": 88
    },
    {
     "cell_type": "code",
     "collapsed": false,
     "input": [
      "arr = np.arange(10)\n",
      "np.save('some_array', arr)\n",
      "np.load('some_array.npy')"
     ],
     "language": "python",
     "metadata": {},
     "outputs": [
      {
       "output_type": "pyout",
       "prompt_number": 92,
       "text": [
        "array([0, 1, 2, 3, 4, 5, 6, 7, 8, 9])"
       ]
      }
     ],
     "prompt_number": 92
    },
    {
     "cell_type": "code",
     "collapsed": false,
     "input": [
      "np.savez('arrar_archive.npz', a = arr, b= arr) # save multiple array in zip file\n",
      "arch = np.load('arrar_archive.npz')\n",
      "arch['b']"
     ],
     "language": "python",
     "metadata": {},
     "outputs": [
      {
       "output_type": "pyout",
       "prompt_number": 96,
       "text": [
        "array([0, 1, 2, 3, 4, 5, 6, 7, 8, 9])"
       ]
      }
     ],
     "prompt_number": 96
    }
   ],
   "metadata": {}
  }
 ]
}